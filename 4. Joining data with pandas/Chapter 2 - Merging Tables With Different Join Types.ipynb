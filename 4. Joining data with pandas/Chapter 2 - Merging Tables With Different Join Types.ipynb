{
 "cells": [
  {
   "cell_type": "markdown",
   "metadata": {},
   "source": [
    "## Left Join "
   ]
  },
  {
   "cell_type": "markdown",
   "metadata": {},
   "source": [
    "#### Counting missing rows with left join\n",
    "The Movie Database is supported by volunteers going out into the world, collecting data, and entering it into the database. This includes financial data, such as movie budget and revenue. If you wanted to know which movies are still missing data, you could use a left join to identify them. Practice using a left join by merging the movies table and the financials table."
   ]
  },
  {
   "cell_type": "code",
   "execution_count": 38,
   "metadata": {},
   "outputs": [],
   "source": [
    "import pickle as pkl\n",
    "\n",
    "#Converting .pkl or .p extension into the .csv extension\n",
    "import pandas as pd\n",
    "\n",
    "with open(\"movies.p\", \"rb\") as f:\n",
    "    object = pkl.load(f)\n",
    "movies = pd.DataFrame(object)\n",
    "movies.to_csv(r'movies.csv')\n",
    "#########################################\n",
    "with open(\"financials.p\", \"rb\") as f:\n",
    "    object = pkl.load(f)\n",
    "financials = pd.DataFrame(object)\n",
    "financials.to_csv(r'financials.csv')\n",
    "    "
   ]
  },
  {
   "cell_type": "code",
   "execution_count": 39,
   "metadata": {},
   "outputs": [
    {
     "name": "stdout",
     "output_type": "stream",
     "text": [
      "      id                 title  popularity release_date\n",
      "0    257          Oliver Twist   20.415572   2005-09-23\n",
      "1  14290  Better Luck Tomorrow    3.877036   2002-01-12\n",
      "2  38365             Grown Ups   38.864027   2010-06-24\n",
      "3   9672              Infamous    3.680896   2006-11-16\n",
      "4  12819       Alpha and Omega   12.300789   2010-09-17\n"
     ]
    }
   ],
   "source": [
    "print(movies.head())"
   ]
  },
  {
   "cell_type": "code",
   "execution_count": 40,
   "metadata": {},
   "outputs": [
    {
     "name": "stdout",
     "output_type": "stream",
     "text": [
      "       id     budget       revenue\n",
      "0   19995  237000000  2.787965e+09\n",
      "1     285  300000000  9.610000e+08\n",
      "2  206647  245000000  8.806746e+08\n",
      "3   49026  250000000  1.084939e+09\n",
      "4   49529  260000000  2.841391e+08\n"
     ]
    }
   ],
   "source": [
    "print(financials.head())"
   ]
  },
  {
   "cell_type": "code",
   "execution_count": 41,
   "metadata": {},
   "outputs": [
    {
     "name": "stdout",
     "output_type": "stream",
     "text": [
      "      id                 title  popularity release_date      budget  \\\n",
      "0    257          Oliver Twist   20.415572   2005-09-23  50000000.0   \n",
      "1  14290  Better Luck Tomorrow    3.877036   2002-01-12         NaN   \n",
      "2  38365             Grown Ups   38.864027   2010-06-24  80000000.0   \n",
      "3   9672              Infamous    3.680896   2006-11-16  13000000.0   \n",
      "4  12819       Alpha and Omega   12.300789   2010-09-17  20000000.0   \n",
      "\n",
      "       revenue  \n",
      "0   42093706.0  \n",
      "1          NaN  \n",
      "2  271430189.0  \n",
      "3    1151330.0  \n",
      "4   39300000.0  \n",
      "1574\n"
     ]
    }
   ],
   "source": [
    "# Merge movies and financials with a left join\n",
    "movies_financials = movies.merge(financials, on = \"id\", how = \"left\")\n",
    "print(movies_financials.head())\n",
    "\n",
    "# Count the number of rows in the budget column that are missing\n",
    "number_of_missing_fin = movies_financials['budget'].isna().sum() # isnull() method can be used instead of isna() too\n",
    "\n",
    "# Print the number of movies missing financials\n",
    "print(number_of_missing_fin)"
   ]
  },
  {
   "cell_type": "markdown",
   "metadata": {},
   "source": [
    "#### Enriching a dataset\n",
    "Setting how='left' with the .merge()method is a useful technique for enriching or enhancing a dataset with additional information from a different table. In this exercise, you will start off with a sample of movie data from the movie series Toy Story. Your goal is to enrich this data by adding the marketing tag line for each movie. You will compare the results of a left join versus an inner join."
   ]
  },
  {
   "cell_type": "code",
   "execution_count": 42,
   "metadata": {},
   "outputs": [],
   "source": [
    "#Converting .pkl or .p extension into the .csv extension\n",
    "with open(\"taglines.p\", \"rb\") as f:\n",
    "    object = pkl.load(f)\n",
    "taglines = pd.DataFrame(object)\n",
    "taglines.to_csv(r'taglines.csv')\n",
    "\n",
    "toy_story = pd.read_csv(\"toy_story.csv\")"
   ]
  },
  {
   "cell_type": "code",
   "execution_count": 43,
   "metadata": {},
   "outputs": [
    {
     "data": {
      "text/html": [
       "<div>\n",
       "<style scoped>\n",
       "    .dataframe tbody tr th:only-of-type {\n",
       "        vertical-align: middle;\n",
       "    }\n",
       "\n",
       "    .dataframe tbody tr th {\n",
       "        vertical-align: top;\n",
       "    }\n",
       "\n",
       "    .dataframe thead th {\n",
       "        text-align: right;\n",
       "    }\n",
       "</style>\n",
       "<table border=\"1\" class=\"dataframe\">\n",
       "  <thead>\n",
       "    <tr style=\"text-align: right;\">\n",
       "      <th></th>\n",
       "      <th>id</th>\n",
       "      <th>tagline</th>\n",
       "    </tr>\n",
       "  </thead>\n",
       "  <tbody>\n",
       "    <tr>\n",
       "      <th>0</th>\n",
       "      <td>19995</td>\n",
       "      <td>Enter the World of Pandora.</td>\n",
       "    </tr>\n",
       "    <tr>\n",
       "      <th>1</th>\n",
       "      <td>285</td>\n",
       "      <td>At the end of the world, the adventure begins.</td>\n",
       "    </tr>\n",
       "    <tr>\n",
       "      <th>2</th>\n",
       "      <td>206647</td>\n",
       "      <td>A Plan No One Escapes</td>\n",
       "    </tr>\n",
       "    <tr>\n",
       "      <th>3</th>\n",
       "      <td>49026</td>\n",
       "      <td>The Legend Ends</td>\n",
       "    </tr>\n",
       "    <tr>\n",
       "      <th>4</th>\n",
       "      <td>49529</td>\n",
       "      <td>Lost in our world, found in another.</td>\n",
       "    </tr>\n",
       "    <tr>\n",
       "      <th>...</th>\n",
       "      <td>...</td>\n",
       "      <td>...</td>\n",
       "    </tr>\n",
       "    <tr>\n",
       "      <th>4795</th>\n",
       "      <td>124606</td>\n",
       "      <td>Sometimes you've got to break the rules</td>\n",
       "    </tr>\n",
       "    <tr>\n",
       "      <th>4796</th>\n",
       "      <td>14337</td>\n",
       "      <td>What happens if it actually works?</td>\n",
       "    </tr>\n",
       "    <tr>\n",
       "      <th>4798</th>\n",
       "      <td>9367</td>\n",
       "      <td>He didn't come looking for trouble, but troubl...</td>\n",
       "    </tr>\n",
       "    <tr>\n",
       "      <th>4799</th>\n",
       "      <td>72766</td>\n",
       "      <td>A newlywed couple's honeymoon is upended by th...</td>\n",
       "    </tr>\n",
       "    <tr>\n",
       "      <th>4801</th>\n",
       "      <td>126186</td>\n",
       "      <td>A New Yorker in Shanghai</td>\n",
       "    </tr>\n",
       "  </tbody>\n",
       "</table>\n",
       "<p>3955 rows × 2 columns</p>\n",
       "</div>"
      ],
      "text/plain": [
       "          id                                            tagline\n",
       "0      19995                        Enter the World of Pandora.\n",
       "1        285     At the end of the world, the adventure begins.\n",
       "2     206647                              A Plan No One Escapes\n",
       "3      49026                                    The Legend Ends\n",
       "4      49529               Lost in our world, found in another.\n",
       "...      ...                                                ...\n",
       "4795  124606            Sometimes you've got to break the rules\n",
       "4796   14337                 What happens if it actually works?\n",
       "4798    9367  He didn't come looking for trouble, but troubl...\n",
       "4799   72766  A newlywed couple's honeymoon is upended by th...\n",
       "4801  126186                           A New Yorker in Shanghai\n",
       "\n",
       "[3955 rows x 2 columns]"
      ]
     },
     "execution_count": 43,
     "metadata": {},
     "output_type": "execute_result"
    }
   ],
   "source": [
    "taglines"
   ]
  },
  {
   "cell_type": "code",
   "execution_count": 44,
   "metadata": {},
   "outputs": [
    {
     "data": {
      "text/html": [
       "<div>\n",
       "<style scoped>\n",
       "    .dataframe tbody tr th:only-of-type {\n",
       "        vertical-align: middle;\n",
       "    }\n",
       "\n",
       "    .dataframe tbody tr th {\n",
       "        vertical-align: top;\n",
       "    }\n",
       "\n",
       "    .dataframe thead th {\n",
       "        text-align: right;\n",
       "    }\n",
       "</style>\n",
       "<table border=\"1\" class=\"dataframe\">\n",
       "  <thead>\n",
       "    <tr style=\"text-align: right;\">\n",
       "      <th></th>\n",
       "      <th>id</th>\n",
       "      <th>title</th>\n",
       "      <th>popularity</th>\n",
       "      <th>release_date</th>\n",
       "    </tr>\n",
       "  </thead>\n",
       "  <tbody>\n",
       "    <tr>\n",
       "      <th>0</th>\n",
       "      <td>10193</td>\n",
       "      <td>Toy Story 3</td>\n",
       "      <td>59.995</td>\n",
       "      <td>2010-06-16</td>\n",
       "    </tr>\n",
       "    <tr>\n",
       "      <th>1</th>\n",
       "      <td>863</td>\n",
       "      <td>Toy Story 2</td>\n",
       "      <td>73.575</td>\n",
       "      <td>1999-10-30</td>\n",
       "    </tr>\n",
       "    <tr>\n",
       "      <th>2</th>\n",
       "      <td>862</td>\n",
       "      <td>Toy Story</td>\n",
       "      <td>73.640</td>\n",
       "      <td>1995-10-30</td>\n",
       "    </tr>\n",
       "  </tbody>\n",
       "</table>\n",
       "</div>"
      ],
      "text/plain": [
       "      id        title  popularity release_date\n",
       "0  10193  Toy Story 3      59.995   2010-06-16\n",
       "1    863  Toy Story 2      73.575   1999-10-30\n",
       "2    862    Toy Story      73.640   1995-10-30"
      ]
     },
     "execution_count": 44,
     "metadata": {},
     "output_type": "execute_result"
    }
   ],
   "source": [
    "toy_story"
   ]
  },
  {
   "cell_type": "code",
   "execution_count": 45,
   "metadata": {},
   "outputs": [
    {
     "name": "stdout",
     "output_type": "stream",
     "text": [
      "      id        title  popularity release_date                   tagline\n",
      "0  10193  Toy Story 3      59.995   2010-06-16  No toy gets left behind.\n",
      "1    863  Toy Story 2      73.575   1999-10-30        The toys are back!\n",
      "2    862    Toy Story      73.640   1995-10-30                       NaN\n",
      "(3, 5)\n"
     ]
    }
   ],
   "source": [
    "# Merge the toy_story and taglines tables with a left join\n",
    "toystory_tag = toy_story.merge(taglines, on = \"id\", how = \"left\")\n",
    "\n",
    "# Print the rows and shape of toystory_tag\n",
    "print(toystory_tag)\n",
    "print(toystory_tag.shape)"
   ]
  },
  {
   "cell_type": "code",
   "execution_count": 46,
   "metadata": {},
   "outputs": [
    {
     "name": "stdout",
     "output_type": "stream",
     "text": [
      "      id        title  popularity release_date                   tagline\n",
      "0  10193  Toy Story 3      59.995   2010-06-16  No toy gets left behind.\n",
      "1    863  Toy Story 2      73.575   1999-10-30        The toys are back!\n",
      "(2, 5)\n"
     ]
    }
   ],
   "source": [
    "# Merge the toy_story and taglines tables with a inner join\n",
    "toystory_tag = toy_story.merge(taglines, on = \"id\") # we dont need to add how = \"inner\", \n",
    "                                                    # because default value is already inner\n",
    "\n",
    "# Print the rows and shape of toystory_tag\n",
    "print(toystory_tag)\n",
    "print(toystory_tag.shape)"
   ]
  },
  {
   "cell_type": "markdown",
   "metadata": {},
   "source": [
    "That's fantastic work! If your goal is to enhance or enrich a dataset, then you do not want to lose any of your original data. A left join will do that by returning all of the rows of your left table, while using an inner join may result in lost data if it does not exist in both tables."
   ]
  },
  {
   "cell_type": "markdown",
   "metadata": {},
   "source": [
    "#### How many rows with a left join?\n",
    "Select the true statement about left joins. Try running the following code statements in the IPython shell.\n",
    "\n",
    "left_table.merge(one_to_one, on='id', how='left').shape<br>\n",
    "left_table.merge(one_to_many, on='id', how='left').shape<br>\n",
    "Note that the left_table starts out with 4 rows.\n",
    "\n",
    "a)The output of a one-to-one merge with a left join will have more rows than the left table.<br>\n",
    "b)The output of a one-to-one merge with a left join will have fewer rows than the left table.<br>\n",
    "<strong>c)The output of a one-to-many merge with a left join will have greater than or equal rows than the left table.</strong>"
   ]
  },
  {
   "cell_type": "markdown",
   "metadata": {},
   "source": [
    "## Right Join"
   ]
  },
  {
   "cell_type": "markdown",
   "metadata": {},
   "source": [
    "#### Right join to find unique movies\n",
    "Most of the recent big-budget science fiction movies can also be classified as action movies. You are given a table of science fiction movies called scifi_movies and another table of action movies called action_movies. Your goal is to find which movies are considered only science fiction movies. Once you have this table, you can merge the movies table in to see the movie names. Since this exercise is related to science fiction movies, use a right join as your superhero power to solve this problem."
   ]
  },
  {
   "cell_type": "code",
   "execution_count": 47,
   "metadata": {},
   "outputs": [
    {
     "name": "stdout",
     "output_type": "stream",
     "text": [
      "    Unnamed: 0  movie_id   genre\n",
      "3            3        11  Action\n",
      "14          14        18  Action\n",
      "25          25        22  Action\n",
      "26          26        24  Action\n",
      "42          42        58  Action\n",
      "    Unnamed: 0  movie_id            genre\n",
      "2            2        11  Science Fiction\n",
      "17          17        18  Science Fiction\n",
      "20          20        19  Science Fiction\n",
      "38          38        38  Science Fiction\n",
      "49          49        62  Science Fiction\n"
     ]
    }
   ],
   "source": [
    "movie_to_genres = pd.read_csv(\"movie_to_genres.csv\")\n",
    "\n",
    "action_movies = movie_to_genres[movie_to_genres[\"genre\"]==\"Action\"]\n",
    "print(action_movies.head())\n",
    "\n",
    "scifi_movies = movie_to_genres[movie_to_genres[\"genre\"]==\"Science Fiction\"]\n",
    "print(scifi_movies.head())\n"
   ]
  },
  {
   "cell_type": "code",
   "execution_count": 48,
   "metadata": {},
   "outputs": [
    {
     "name": "stdout",
     "output_type": "stream",
     "text": [
      "   Unnamed: 0_act  movie_id genre_act  Unnamed: 0_sci        genre_sci\n",
      "0             3.0        11    Action               2  Science Fiction\n",
      "1            14.0        18    Action              17  Science Fiction\n",
      "2            95.0        95    Action              97  Science Fiction\n",
      "3           117.0       106    Action             115  Science Fiction\n",
      "4           179.0       154    Action             181  Science Fiction \n",
      "\n",
      "     Unnamed: 0_act  movie_id genre_act  Unnamed: 0_sci        genre_sci\n",
      "277             NaN        19       NaN              20  Science Fiction\n",
      "278             NaN        38       NaN              38  Science Fiction\n",
      "279             NaN        62       NaN              49  Science Fiction\n",
      "280             NaN        68       NaN              55  Science Fiction\n",
      "281             NaN        74       NaN              66  Science Fiction \n",
      "\n",
      "      id                         title  popularity release_date  \\\n",
      "0  18841  The Lost Skeleton of Cadavra    1.680525   2001-09-12   \n",
      "1  26672     The Thief and the Cobbler    2.439184   1993-09-23   \n",
      "2  15301      Twilight Zone: The Movie   12.902975   1983-06-24   \n",
      "3   8452                   The 6th Day   18.447479   2000-11-17   \n",
      "4   1649    Bill & Ted's Bogus Journey   11.349664   1991-07-19   \n",
      "\n",
      "   Unnamed: 0_act  movie_id genre_act  Unnamed: 0_sci        genre_sci  \n",
      "0             NaN     18841       NaN            7109  Science Fiction  \n",
      "1             NaN     26672       NaN            7846  Science Fiction  \n",
      "2             NaN     15301       NaN            6602  Science Fiction  \n",
      "3             NaN      8452       NaN            3000  Science Fiction  \n",
      "4             NaN      1649       NaN            1496  Science Fiction   \n",
      "\n",
      "(258, 9) \n",
      "\n"
     ]
    }
   ],
   "source": [
    "# Merge action_movies to scifi_movies with right join\n",
    "action_scifi = action_movies.merge(scifi_movies, on='movie_id', how='right', suffixes = ([\"_act\",\"_sci\"]))\n",
    "\n",
    "# Print the first few rows of action_scifi to see the structure\n",
    "print(action_scifi.head(), \"\\n\")\n",
    "\n",
    "# From action_scifi, select only the rows where the genre_act column is null\n",
    "scifi_only = action_scifi[action_scifi[\"genre_act\"].isnull()]\n",
    "print(scifi_only.head(), \"\\n\")\n",
    "\n",
    "# Merge the movies and scifi_only tables with an inner join\n",
    "movies_and_scifi_only = movies.merge(scifi_only, how = \"inner\", left_on = \"id\", right_on = \"movie_id\")\n",
    "\n",
    "# Print the first few rows and shape of movies_and_scifi_only\n",
    "print(movies_and_scifi_only.head(), \"\\n\")\n",
    "print(movies_and_scifi_only.shape, \"\\n\")"
   ]
  },
  {
   "cell_type": "markdown",
   "metadata": {},
   "source": [
    "#### Popular genres with right join\n",
    "What are the genres of the most popular movies? To answer this question, you need to merge data from the movies and movie_to_genres tables. In a table called pop_movies, the top 10 most popular movies in the movies table have been selected. To ensure that you are analyzing all of the popular movies, merge it with the movie_to_genres table using a right join. To complete your analysis, count the number of different genres. Also, the two tables can be merged by the movie ID. However, in pop_movies that column is called id, and in movies_to_genres it's called movie_id."
   ]
  },
  {
   "cell_type": "code",
   "execution_count": 49,
   "metadata": {},
   "outputs": [
    {
     "data": {
      "text/html": [
       "<div>\n",
       "<style scoped>\n",
       "    .dataframe tbody tr th:only-of-type {\n",
       "        vertical-align: middle;\n",
       "    }\n",
       "\n",
       "    .dataframe tbody tr th {\n",
       "        vertical-align: top;\n",
       "    }\n",
       "\n",
       "    .dataframe thead th {\n",
       "        text-align: right;\n",
       "    }\n",
       "</style>\n",
       "<table border=\"1\" class=\"dataframe\">\n",
       "  <thead>\n",
       "    <tr style=\"text-align: right;\">\n",
       "      <th></th>\n",
       "      <th>id</th>\n",
       "      <th>title</th>\n",
       "      <th>popularity</th>\n",
       "      <th>release_date</th>\n",
       "    </tr>\n",
       "  </thead>\n",
       "  <tbody>\n",
       "    <tr>\n",
       "      <th>0</th>\n",
       "      <td>257</td>\n",
       "      <td>Oliver Twist</td>\n",
       "      <td>20.415572</td>\n",
       "      <td>2005-09-23</td>\n",
       "    </tr>\n",
       "    <tr>\n",
       "      <th>1</th>\n",
       "      <td>14290</td>\n",
       "      <td>Better Luck Tomorrow</td>\n",
       "      <td>3.877036</td>\n",
       "      <td>2002-01-12</td>\n",
       "    </tr>\n",
       "    <tr>\n",
       "      <th>2</th>\n",
       "      <td>38365</td>\n",
       "      <td>Grown Ups</td>\n",
       "      <td>38.864027</td>\n",
       "      <td>2010-06-24</td>\n",
       "    </tr>\n",
       "    <tr>\n",
       "      <th>3</th>\n",
       "      <td>9672</td>\n",
       "      <td>Infamous</td>\n",
       "      <td>3.680896</td>\n",
       "      <td>2006-11-16</td>\n",
       "    </tr>\n",
       "    <tr>\n",
       "      <th>4</th>\n",
       "      <td>12819</td>\n",
       "      <td>Alpha and Omega</td>\n",
       "      <td>12.300789</td>\n",
       "      <td>2010-09-17</td>\n",
       "    </tr>\n",
       "    <tr>\n",
       "      <th>...</th>\n",
       "      <td>...</td>\n",
       "      <td>...</td>\n",
       "      <td>...</td>\n",
       "      <td>...</td>\n",
       "    </tr>\n",
       "    <tr>\n",
       "      <th>4798</th>\n",
       "      <td>3089</td>\n",
       "      <td>Red River</td>\n",
       "      <td>5.344815</td>\n",
       "      <td>1948-08-26</td>\n",
       "    </tr>\n",
       "    <tr>\n",
       "      <th>4799</th>\n",
       "      <td>11934</td>\n",
       "      <td>The Hudsucker Proxy</td>\n",
       "      <td>14.188982</td>\n",
       "      <td>1994-03-11</td>\n",
       "    </tr>\n",
       "    <tr>\n",
       "      <th>4800</th>\n",
       "      <td>13807</td>\n",
       "      <td>Exiled</td>\n",
       "      <td>8.486390</td>\n",
       "      <td>2006-09-06</td>\n",
       "    </tr>\n",
       "    <tr>\n",
       "      <th>4801</th>\n",
       "      <td>73873</td>\n",
       "      <td>Albert Nobbs</td>\n",
       "      <td>7.802245</td>\n",
       "      <td>2011-12-21</td>\n",
       "    </tr>\n",
       "    <tr>\n",
       "      <th>4802</th>\n",
       "      <td>11622</td>\n",
       "      <td>Blast from the Past</td>\n",
       "      <td>8.737058</td>\n",
       "      <td>1999-02-12</td>\n",
       "    </tr>\n",
       "  </tbody>\n",
       "</table>\n",
       "<p>4803 rows × 4 columns</p>\n",
       "</div>"
      ],
      "text/plain": [
       "         id                 title  popularity release_date\n",
       "0       257          Oliver Twist   20.415572   2005-09-23\n",
       "1     14290  Better Luck Tomorrow    3.877036   2002-01-12\n",
       "2     38365             Grown Ups   38.864027   2010-06-24\n",
       "3      9672              Infamous    3.680896   2006-11-16\n",
       "4     12819       Alpha and Omega   12.300789   2010-09-17\n",
       "...     ...                   ...         ...          ...\n",
       "4798   3089             Red River    5.344815   1948-08-26\n",
       "4799  11934   The Hudsucker Proxy   14.188982   1994-03-11\n",
       "4800  13807                Exiled    8.486390   2006-09-06\n",
       "4801  73873          Albert Nobbs    7.802245   2011-12-21\n",
       "4802  11622   Blast from the Past    8.737058   1999-02-12\n",
       "\n",
       "[4803 rows x 4 columns]"
      ]
     },
     "execution_count": 49,
     "metadata": {},
     "output_type": "execute_result"
    }
   ],
   "source": [
    "movies"
   ]
  },
  {
   "cell_type": "code",
   "execution_count": 50,
   "metadata": {},
   "outputs": [
    {
     "data": {
      "text/html": [
       "<div>\n",
       "<style scoped>\n",
       "    .dataframe tbody tr th:only-of-type {\n",
       "        vertical-align: middle;\n",
       "    }\n",
       "\n",
       "    .dataframe tbody tr th {\n",
       "        vertical-align: top;\n",
       "    }\n",
       "\n",
       "    .dataframe thead th {\n",
       "        text-align: right;\n",
       "    }\n",
       "</style>\n",
       "<table border=\"1\" class=\"dataframe\">\n",
       "  <thead>\n",
       "    <tr style=\"text-align: right;\">\n",
       "      <th></th>\n",
       "      <th>popularity</th>\n",
       "    </tr>\n",
       "  </thead>\n",
       "  <tbody>\n",
       "    <tr>\n",
       "      <th>4546</th>\n",
       "      <td>875.581305</td>\n",
       "    </tr>\n",
       "    <tr>\n",
       "      <th>4343</th>\n",
       "      <td>724.247784</td>\n",
       "    </tr>\n",
       "    <tr>\n",
       "      <th>1966</th>\n",
       "      <td>514.569956</td>\n",
       "    </tr>\n",
       "    <tr>\n",
       "      <th>2423</th>\n",
       "      <td>481.098624</td>\n",
       "    </tr>\n",
       "    <tr>\n",
       "      <th>4220</th>\n",
       "      <td>434.278564</td>\n",
       "    </tr>\n",
       "    <tr>\n",
       "      <th>1867</th>\n",
       "      <td>418.708552</td>\n",
       "    </tr>\n",
       "    <tr>\n",
       "      <th>4375</th>\n",
       "      <td>271.972889</td>\n",
       "    </tr>\n",
       "    <tr>\n",
       "      <th>1106</th>\n",
       "      <td>243.791743</td>\n",
       "    </tr>\n",
       "    <tr>\n",
       "      <th>4216</th>\n",
       "      <td>206.227151</td>\n",
       "    </tr>\n",
       "    <tr>\n",
       "      <th>2614</th>\n",
       "      <td>203.734590</td>\n",
       "    </tr>\n",
       "  </tbody>\n",
       "</table>\n",
       "</div>"
      ],
      "text/plain": [
       "      popularity\n",
       "4546  875.581305\n",
       "4343  724.247784\n",
       "1966  514.569956\n",
       "2423  481.098624\n",
       "4220  434.278564\n",
       "1867  418.708552\n",
       "4375  271.972889\n",
       "1106  243.791743\n",
       "4216  206.227151\n",
       "2614  203.734590"
      ]
     },
     "execution_count": 50,
     "metadata": {},
     "output_type": "execute_result"
    }
   ],
   "source": [
    "popularity_10 = movies.sort_values(\"popularity\", ascending = False).iloc[0:10, 2:3]\n",
    "popularity_10"
   ]
  },
  {
   "cell_type": "code",
   "execution_count": 51,
   "metadata": {},
   "outputs": [
    {
     "data": {
      "text/html": [
       "<div>\n",
       "<style scoped>\n",
       "    .dataframe tbody tr th:only-of-type {\n",
       "        vertical-align: middle;\n",
       "    }\n",
       "\n",
       "    .dataframe tbody tr th {\n",
       "        vertical-align: top;\n",
       "    }\n",
       "\n",
       "    .dataframe thead th {\n",
       "        text-align: right;\n",
       "    }\n",
       "</style>\n",
       "<table border=\"1\" class=\"dataframe\">\n",
       "  <thead>\n",
       "    <tr style=\"text-align: right;\">\n",
       "      <th></th>\n",
       "      <th>id</th>\n",
       "      <th>title</th>\n",
       "      <th>popularity</th>\n",
       "      <th>release_date</th>\n",
       "    </tr>\n",
       "  </thead>\n",
       "  <tbody>\n",
       "    <tr>\n",
       "      <th>0</th>\n",
       "      <td>119450</td>\n",
       "      <td>Dawn of the Planet of the Apes</td>\n",
       "      <td>243.791743</td>\n",
       "      <td>2014-06-26</td>\n",
       "    </tr>\n",
       "    <tr>\n",
       "      <th>1</th>\n",
       "      <td>135397</td>\n",
       "      <td>Jurassic World</td>\n",
       "      <td>418.708552</td>\n",
       "      <td>2015-06-09</td>\n",
       "    </tr>\n",
       "    <tr>\n",
       "      <th>2</th>\n",
       "      <td>293660</td>\n",
       "      <td>Deadpool</td>\n",
       "      <td>514.569956</td>\n",
       "      <td>2016-02-09</td>\n",
       "    </tr>\n",
       "    <tr>\n",
       "      <th>3</th>\n",
       "      <td>118340</td>\n",
       "      <td>Guardians of the Galaxy</td>\n",
       "      <td>481.098624</td>\n",
       "      <td>2014-07-30</td>\n",
       "    </tr>\n",
       "    <tr>\n",
       "      <th>4</th>\n",
       "      <td>177572</td>\n",
       "      <td>Big Hero 6</td>\n",
       "      <td>203.734590</td>\n",
       "      <td>2014-10-24</td>\n",
       "    </tr>\n",
       "    <tr>\n",
       "      <th>5</th>\n",
       "      <td>131631</td>\n",
       "      <td>The Hunger Games: Mockingjay - Part 1</td>\n",
       "      <td>206.227151</td>\n",
       "      <td>2014-11-18</td>\n",
       "    </tr>\n",
       "    <tr>\n",
       "      <th>6</th>\n",
       "      <td>76341</td>\n",
       "      <td>Mad Max: Fury Road</td>\n",
       "      <td>434.278564</td>\n",
       "      <td>2015-05-13</td>\n",
       "    </tr>\n",
       "    <tr>\n",
       "      <th>7</th>\n",
       "      <td>157336</td>\n",
       "      <td>Interstellar</td>\n",
       "      <td>724.247784</td>\n",
       "      <td>2014-11-05</td>\n",
       "    </tr>\n",
       "    <tr>\n",
       "      <th>8</th>\n",
       "      <td>22</td>\n",
       "      <td>Pirates of the Caribbean: The Curse of the Bla...</td>\n",
       "      <td>271.972889</td>\n",
       "      <td>2003-07-09</td>\n",
       "    </tr>\n",
       "    <tr>\n",
       "      <th>9</th>\n",
       "      <td>211672</td>\n",
       "      <td>Minions</td>\n",
       "      <td>875.581305</td>\n",
       "      <td>2015-06-17</td>\n",
       "    </tr>\n",
       "  </tbody>\n",
       "</table>\n",
       "</div>"
      ],
      "text/plain": [
       "       id                                              title  popularity  \\\n",
       "0  119450                     Dawn of the Planet of the Apes  243.791743   \n",
       "1  135397                                     Jurassic World  418.708552   \n",
       "2  293660                                           Deadpool  514.569956   \n",
       "3  118340                            Guardians of the Galaxy  481.098624   \n",
       "4  177572                                         Big Hero 6  203.734590   \n",
       "5  131631              The Hunger Games: Mockingjay - Part 1  206.227151   \n",
       "6   76341                                 Mad Max: Fury Road  434.278564   \n",
       "7  157336                                       Interstellar  724.247784   \n",
       "8      22  Pirates of the Caribbean: The Curse of the Bla...  271.972889   \n",
       "9  211672                                            Minions  875.581305   \n",
       "\n",
       "  release_date  \n",
       "0   2014-06-26  \n",
       "1   2015-06-09  \n",
       "2   2016-02-09  \n",
       "3   2014-07-30  \n",
       "4   2014-10-24  \n",
       "5   2014-11-18  \n",
       "6   2015-05-13  \n",
       "7   2014-11-05  \n",
       "8   2003-07-09  \n",
       "9   2015-06-17  "
      ]
     },
     "execution_count": 51,
     "metadata": {},
     "output_type": "execute_result"
    }
   ],
   "source": [
    "movies_pop = movies.merge(popularity_10, on = \"popularity\", how = \"right\")#.sort_values(\"popularity\", ascending = False)\n",
    "movies_pop"
   ]
  },
  {
   "cell_type": "code",
   "execution_count": 52,
   "metadata": {},
   "outputs": [
    {
     "data": {
      "text/html": [
       "<div>\n",
       "<style scoped>\n",
       "    .dataframe tbody tr th:only-of-type {\n",
       "        vertical-align: middle;\n",
       "    }\n",
       "\n",
       "    .dataframe tbody tr th {\n",
       "        vertical-align: top;\n",
       "    }\n",
       "\n",
       "    .dataframe thead th {\n",
       "        text-align: right;\n",
       "    }\n",
       "</style>\n",
       "<table border=\"1\" class=\"dataframe\">\n",
       "  <thead>\n",
       "    <tr style=\"text-align: right;\">\n",
       "      <th></th>\n",
       "      <th>id</th>\n",
       "      <th>title</th>\n",
       "      <th>popularity</th>\n",
       "      <th>release_date</th>\n",
       "    </tr>\n",
       "  </thead>\n",
       "  <tbody>\n",
       "    <tr>\n",
       "      <th>9</th>\n",
       "      <td>211672</td>\n",
       "      <td>Minions</td>\n",
       "      <td>875.581305</td>\n",
       "      <td>2015-06-17</td>\n",
       "    </tr>\n",
       "    <tr>\n",
       "      <th>7</th>\n",
       "      <td>157336</td>\n",
       "      <td>Interstellar</td>\n",
       "      <td>724.247784</td>\n",
       "      <td>2014-11-05</td>\n",
       "    </tr>\n",
       "    <tr>\n",
       "      <th>2</th>\n",
       "      <td>293660</td>\n",
       "      <td>Deadpool</td>\n",
       "      <td>514.569956</td>\n",
       "      <td>2016-02-09</td>\n",
       "    </tr>\n",
       "    <tr>\n",
       "      <th>3</th>\n",
       "      <td>118340</td>\n",
       "      <td>Guardians of the Galaxy</td>\n",
       "      <td>481.098624</td>\n",
       "      <td>2014-07-30</td>\n",
       "    </tr>\n",
       "    <tr>\n",
       "      <th>6</th>\n",
       "      <td>76341</td>\n",
       "      <td>Mad Max: Fury Road</td>\n",
       "      <td>434.278564</td>\n",
       "      <td>2015-05-13</td>\n",
       "    </tr>\n",
       "    <tr>\n",
       "      <th>1</th>\n",
       "      <td>135397</td>\n",
       "      <td>Jurassic World</td>\n",
       "      <td>418.708552</td>\n",
       "      <td>2015-06-09</td>\n",
       "    </tr>\n",
       "    <tr>\n",
       "      <th>8</th>\n",
       "      <td>22</td>\n",
       "      <td>Pirates of the Caribbean: The Curse of the Bla...</td>\n",
       "      <td>271.972889</td>\n",
       "      <td>2003-07-09</td>\n",
       "    </tr>\n",
       "    <tr>\n",
       "      <th>0</th>\n",
       "      <td>119450</td>\n",
       "      <td>Dawn of the Planet of the Apes</td>\n",
       "      <td>243.791743</td>\n",
       "      <td>2014-06-26</td>\n",
       "    </tr>\n",
       "    <tr>\n",
       "      <th>5</th>\n",
       "      <td>131631</td>\n",
       "      <td>The Hunger Games: Mockingjay - Part 1</td>\n",
       "      <td>206.227151</td>\n",
       "      <td>2014-11-18</td>\n",
       "    </tr>\n",
       "    <tr>\n",
       "      <th>4</th>\n",
       "      <td>177572</td>\n",
       "      <td>Big Hero 6</td>\n",
       "      <td>203.734590</td>\n",
       "      <td>2014-10-24</td>\n",
       "    </tr>\n",
       "  </tbody>\n",
       "</table>\n",
       "</div>"
      ],
      "text/plain": [
       "       id                                              title  popularity  \\\n",
       "9  211672                                            Minions  875.581305   \n",
       "7  157336                                       Interstellar  724.247784   \n",
       "2  293660                                           Deadpool  514.569956   \n",
       "3  118340                            Guardians of the Galaxy  481.098624   \n",
       "6   76341                                 Mad Max: Fury Road  434.278564   \n",
       "1  135397                                     Jurassic World  418.708552   \n",
       "8      22  Pirates of the Caribbean: The Curse of the Bla...  271.972889   \n",
       "0  119450                     Dawn of the Planet of the Apes  243.791743   \n",
       "5  131631              The Hunger Games: Mockingjay - Part 1  206.227151   \n",
       "4  177572                                         Big Hero 6  203.734590   \n",
       "\n",
       "  release_date  \n",
       "9   2015-06-17  \n",
       "7   2014-11-05  \n",
       "2   2016-02-09  \n",
       "3   2014-07-30  \n",
       "6   2015-05-13  \n",
       "1   2015-06-09  \n",
       "8   2003-07-09  \n",
       "0   2014-06-26  \n",
       "5   2014-11-18  \n",
       "4   2014-10-24  "
      ]
     },
     "execution_count": 52,
     "metadata": {},
     "output_type": "execute_result"
    }
   ],
   "source": [
    "movies_pop2 = movies.merge(popularity_10, on = \"popularity\", how = \"right\").sort_values(\"popularity\", ascending = False)\n",
    "movies_pop2"
   ]
  },
  {
   "cell_type": "code",
   "execution_count": 53,
   "metadata": {},
   "outputs": [
    {
     "data": {
      "text/html": [
       "<div>\n",
       "<style scoped>\n",
       "    .dataframe tbody tr th:only-of-type {\n",
       "        vertical-align: middle;\n",
       "    }\n",
       "\n",
       "    .dataframe tbody tr th {\n",
       "        vertical-align: top;\n",
       "    }\n",
       "\n",
       "    .dataframe thead th {\n",
       "        text-align: right;\n",
       "    }\n",
       "</style>\n",
       "<table border=\"1\" class=\"dataframe\">\n",
       "  <thead>\n",
       "    <tr style=\"text-align: right;\">\n",
       "      <th></th>\n",
       "      <th>id</th>\n",
       "      <th>title</th>\n",
       "      <th>popularity</th>\n",
       "      <th>release_date</th>\n",
       "    </tr>\n",
       "  </thead>\n",
       "  <tbody>\n",
       "    <tr>\n",
       "      <th>9</th>\n",
       "      <td>211672</td>\n",
       "      <td>Minions</td>\n",
       "      <td>875.581305</td>\n",
       "      <td>2015-06-17</td>\n",
       "    </tr>\n",
       "    <tr>\n",
       "      <th>7</th>\n",
       "      <td>157336</td>\n",
       "      <td>Interstellar</td>\n",
       "      <td>724.247784</td>\n",
       "      <td>2014-11-05</td>\n",
       "    </tr>\n",
       "    <tr>\n",
       "      <th>2</th>\n",
       "      <td>293660</td>\n",
       "      <td>Deadpool</td>\n",
       "      <td>514.569956</td>\n",
       "      <td>2016-02-09</td>\n",
       "    </tr>\n",
       "    <tr>\n",
       "      <th>3</th>\n",
       "      <td>118340</td>\n",
       "      <td>Guardians of the Galaxy</td>\n",
       "      <td>481.098624</td>\n",
       "      <td>2014-07-30</td>\n",
       "    </tr>\n",
       "    <tr>\n",
       "      <th>6</th>\n",
       "      <td>76341</td>\n",
       "      <td>Mad Max: Fury Road</td>\n",
       "      <td>434.278564</td>\n",
       "      <td>2015-05-13</td>\n",
       "    </tr>\n",
       "    <tr>\n",
       "      <th>1</th>\n",
       "      <td>135397</td>\n",
       "      <td>Jurassic World</td>\n",
       "      <td>418.708552</td>\n",
       "      <td>2015-06-09</td>\n",
       "    </tr>\n",
       "    <tr>\n",
       "      <th>8</th>\n",
       "      <td>22</td>\n",
       "      <td>Pirates of the Caribbean: The Curse of the Bla...</td>\n",
       "      <td>271.972889</td>\n",
       "      <td>2003-07-09</td>\n",
       "    </tr>\n",
       "    <tr>\n",
       "      <th>0</th>\n",
       "      <td>119450</td>\n",
       "      <td>Dawn of the Planet of the Apes</td>\n",
       "      <td>243.791743</td>\n",
       "      <td>2014-06-26</td>\n",
       "    </tr>\n",
       "    <tr>\n",
       "      <th>5</th>\n",
       "      <td>131631</td>\n",
       "      <td>The Hunger Games: Mockingjay - Part 1</td>\n",
       "      <td>206.227151</td>\n",
       "      <td>2014-11-18</td>\n",
       "    </tr>\n",
       "    <tr>\n",
       "      <th>4</th>\n",
       "      <td>177572</td>\n",
       "      <td>Big Hero 6</td>\n",
       "      <td>203.734590</td>\n",
       "      <td>2014-10-24</td>\n",
       "    </tr>\n",
       "  </tbody>\n",
       "</table>\n",
       "</div>"
      ],
      "text/plain": [
       "       id                                              title  popularity  \\\n",
       "9  211672                                            Minions  875.581305   \n",
       "7  157336                                       Interstellar  724.247784   \n",
       "2  293660                                           Deadpool  514.569956   \n",
       "3  118340                            Guardians of the Galaxy  481.098624   \n",
       "6   76341                                 Mad Max: Fury Road  434.278564   \n",
       "1  135397                                     Jurassic World  418.708552   \n",
       "8      22  Pirates of the Caribbean: The Curse of the Bla...  271.972889   \n",
       "0  119450                     Dawn of the Planet of the Apes  243.791743   \n",
       "5  131631              The Hunger Games: Mockingjay - Part 1  206.227151   \n",
       "4  177572                                         Big Hero 6  203.734590   \n",
       "\n",
       "  release_date  \n",
       "9   2015-06-17  \n",
       "7   2014-11-05  \n",
       "2   2016-02-09  \n",
       "3   2014-07-30  \n",
       "6   2015-05-13  \n",
       "1   2015-06-09  \n",
       "8   2003-07-09  \n",
       "0   2014-06-26  \n",
       "5   2014-11-18  \n",
       "4   2014-10-24  "
      ]
     },
     "execution_count": 53,
     "metadata": {},
     "output_type": "execute_result"
    }
   ],
   "source": [
    "pop_movies = movies.merge(popularity_10, on = \"popularity\", how = \"inner\").sort_values(\"popularity\", ascending = False)\n",
    "pop_movies"
   ]
  },
  {
   "cell_type": "code",
   "execution_count": null,
   "metadata": {},
   "outputs": [],
   "source": []
  },
  {
   "cell_type": "code",
   "execution_count": 54,
   "metadata": {},
   "outputs": [
    {
     "name": "stdout",
     "output_type": "stream",
     "text": [
      "    Unnamed: 0  movie_id            genre      id  \\\n",
      "0           23        22          Fantasy      22   \n",
      "1           24        22        Adventure      22   \n",
      "2           25        22           Action      22   \n",
      "3         9949     76341           Action   76341   \n",
      "4         9950     76341  Science Fiction   76341   \n",
      "5         9951     76341        Adventure   76341   \n",
      "6         9952     76341         Thriller   76341   \n",
      "7        10536    118340        Adventure  118340   \n",
      "8        10537    118340  Science Fiction  118340   \n",
      "9        10538    118340           Action  118340   \n",
      "10       10547    119450           Action  119450   \n",
      "11       10548    119450            Drama  119450   \n",
      "12       10549    119450         Thriller  119450   \n",
      "13       10550    119450  Science Fiction  119450   \n",
      "14       10615    131631         Thriller  131631   \n",
      "15       10616    131631        Adventure  131631   \n",
      "16       10617    131631  Science Fiction  131631   \n",
      "17       10648    135397         Thriller  135397   \n",
      "18       10649    135397        Adventure  135397   \n",
      "19       10650    135397           Action  135397   \n",
      "20       10651    135397  Science Fiction  135397   \n",
      "21       10804    157336            Drama  157336   \n",
      "22       10805    157336  Science Fiction  157336   \n",
      "23       10806    157336        Adventure  157336   \n",
      "24       10942    177572        Adventure  177572   \n",
      "25       10943    177572           Action  177572   \n",
      "26       10944    177572           Comedy  177572   \n",
      "27       10945    177572        Animation  177572   \n",
      "28       10946    177572           Family  177572   \n",
      "29       11160    211672           Comedy  211672   \n",
      "30       11161    211672        Adventure  211672   \n",
      "31       11162    211672        Animation  211672   \n",
      "32       11163    211672           Family  211672   \n",
      "33       11734    293660        Adventure  293660   \n",
      "34       11735    293660           Action  293660   \n",
      "35       11736    293660           Comedy  293660   \n",
      "\n",
      "                                                title  popularity release_date  \n",
      "0   Pirates of the Caribbean: The Curse of the Bla...  271.972889   2003-07-09  \n",
      "1   Pirates of the Caribbean: The Curse of the Bla...  271.972889   2003-07-09  \n",
      "2   Pirates of the Caribbean: The Curse of the Bla...  271.972889   2003-07-09  \n",
      "3                                  Mad Max: Fury Road  434.278564   2015-05-13  \n",
      "4                                  Mad Max: Fury Road  434.278564   2015-05-13  \n",
      "5                                  Mad Max: Fury Road  434.278564   2015-05-13  \n",
      "6                                  Mad Max: Fury Road  434.278564   2015-05-13  \n",
      "7                             Guardians of the Galaxy  481.098624   2014-07-30  \n",
      "8                             Guardians of the Galaxy  481.098624   2014-07-30  \n",
      "9                             Guardians of the Galaxy  481.098624   2014-07-30  \n",
      "10                     Dawn of the Planet of the Apes  243.791743   2014-06-26  \n",
      "11                     Dawn of the Planet of the Apes  243.791743   2014-06-26  \n",
      "12                     Dawn of the Planet of the Apes  243.791743   2014-06-26  \n",
      "13                     Dawn of the Planet of the Apes  243.791743   2014-06-26  \n",
      "14              The Hunger Games: Mockingjay - Part 1  206.227151   2014-11-18  \n",
      "15              The Hunger Games: Mockingjay - Part 1  206.227151   2014-11-18  \n",
      "16              The Hunger Games: Mockingjay - Part 1  206.227151   2014-11-18  \n",
      "17                                     Jurassic World  418.708552   2015-06-09  \n",
      "18                                     Jurassic World  418.708552   2015-06-09  \n",
      "19                                     Jurassic World  418.708552   2015-06-09  \n",
      "20                                     Jurassic World  418.708552   2015-06-09  \n",
      "21                                       Interstellar  724.247784   2014-11-05  \n",
      "22                                       Interstellar  724.247784   2014-11-05  \n",
      "23                                       Interstellar  724.247784   2014-11-05  \n",
      "24                                         Big Hero 6  203.734590   2014-10-24  \n",
      "25                                         Big Hero 6  203.734590   2014-10-24  \n",
      "26                                         Big Hero 6  203.734590   2014-10-24  \n",
      "27                                         Big Hero 6  203.734590   2014-10-24  \n",
      "28                                         Big Hero 6  203.734590   2014-10-24  \n",
      "29                                            Minions  875.581305   2015-06-17  \n",
      "30                                            Minions  875.581305   2015-06-17  \n",
      "31                                            Minions  875.581305   2015-06-17  \n",
      "32                                            Minions  875.581305   2015-06-17  \n",
      "33                                           Deadpool  514.569956   2016-02-09  \n",
      "34                                           Deadpool  514.569956   2016-02-09  \n",
      "35                                           Deadpool  514.569956   2016-02-09  \n",
      "                 id\n",
      "genre              \n",
      "Action            7\n",
      "Adventure         9\n",
      "Animation         2\n",
      "Comedy            3\n",
      "Drama             2\n",
      "Family            2\n",
      "Fantasy           1\n",
      "Science Fiction   6\n",
      "Thriller          4\n"
     ]
    },
    {
     "data": {
      "image/png": "[encoded data removed]",
      "text/plain": [
       "<Figure size 432x288 with 1 Axes>"
      ]
     },
     "metadata": {
      "needs_background": "light"
     },
     "output_type": "display_data"
    }
   ],
   "source": [
    "# Use right join to merge the movie_to_genres and pop_movies tables\n",
    "genres_movies = movie_to_genres.merge(pop_movies, how = \"right\", \n",
    "                                    left_on = \"movie_id\", right_on = \"id\" )\n",
    "print(genres_movies)\n",
    "# Count the number of genres\n",
    "genre_count = genres_movies.groupby('genre').agg({'id':'count'})\n",
    "print(genre_count)\n",
    "\n",
    "#import plotting library\n",
    "import matplotlib.pyplot as plt\n",
    "\n",
    "# Plot a bar chart of the genre_count\n",
    "genre_count.plot(kind='bar')\n",
    "plt.show()"
   ]
  },
  {
   "cell_type": "markdown",
   "metadata": {},
   "source": [
    "#### Using outer join to select actors\n",
    "One cool aspect of using an outer join is that, because it returns all rows from both merged tables and null where they do not match, you can use it to find rows that do not have a match in the other table. To try for yourself, you have been given two tables with a list of actors from two popular movies: Iron Man 1 and Iron Man 2. Most of the actors played in both movies. Use an outer join to find actors who did not act in both movies.\n",
    "\n",
    "The Iron Man 1 table is called iron_1_actors, and Iron Man 2 table is called iron_2_actors. Both tables have been loaded for you and a few rows printed so you can see the structure.\n",
    "\n"
   ]
  },
  {
   "cell_type": "code",
   "execution_count": 55,
   "metadata": {},
   "outputs": [
    {
     "ename": "NameError",
     "evalue": "name 'iron_1_actors' is not defined",
     "output_type": "error",
     "traceback": [
      "\u001b[1;31m---------------------------------------------------------------------------\u001b[0m",
      "\u001b[1;31mNameError\u001b[0m                                 Traceback (most recent call last)",
      "\u001b[1;32m<ipython-input-55-b225c488b090>\u001b[0m in \u001b[0;36m<module>\u001b[1;34m\u001b[0m\n\u001b[0;32m      1\u001b[0m \u001b[1;31m# Merge iron_1_actors to iron_2_actors on id with outer join using suffixes\u001b[0m\u001b[1;33m\u001b[0m\u001b[1;33m\u001b[0m\u001b[1;33m\u001b[0m\u001b[0m\n\u001b[1;32m----> 2\u001b[1;33m iron_1_and_2 = iron_1_actors.merge(iron_2_actors, on = \"id\",\n\u001b[0m\u001b[0;32m      3\u001b[0m                                    \u001b[0mhow\u001b[0m \u001b[1;33m=\u001b[0m \u001b[1;34m\"outer\"\u001b[0m\u001b[1;33m,\u001b[0m\u001b[1;33m\u001b[0m\u001b[1;33m\u001b[0m\u001b[0m\n\u001b[0;32m      4\u001b[0m                                    suffixes=([\"_1\",\"_2\"]))\n\u001b[0;32m      5\u001b[0m \u001b[0mprint\u001b[0m\u001b[1;33m(\u001b[0m\u001b[0miron_1_and_2\u001b[0m\u001b[1;33m)\u001b[0m\u001b[1;33m\u001b[0m\u001b[1;33m\u001b[0m\u001b[0m\n",
      "\u001b[1;31mNameError\u001b[0m: name 'iron_1_actors' is not defined"
     ]
    }
   ],
   "source": [
    "# Merge iron_1_actors to iron_2_actors on id with outer join using suffixes\n",
    "iron_1_and_2 = iron_1_actors.merge(iron_2_actors, on = \"id\",\n",
    "                                   how = \"outer\",\n",
    "                                   suffixes=([\"_1\",\"_2\"]))\n",
    "print(iron_1_and_2)\n",
    "\n",
    "# Create an index that returns true if name_1 or name_2 are null\n",
    "m = ((iron_1_and_2['name_1'].isnull()) | \n",
    "     (iron_1_and_2['name_2'].isnull()))\n",
    "\n",
    "# Print the first few rows of iron_1_and_2\n",
    "print(iron_1_and_2[m].head())"
   ]
  },
  {
   "cell_type": "markdown",
   "metadata": {},
   "source": [
    "iron_1_actors ve iron_2_actors datasetleri olmadığı için verileri göremiyoruz. "
   ]
  },
  {
   "cell_type": "markdown",
   "metadata": {},
   "source": [
    "## Merge table with itself"
   ]
  },
  {
   "cell_type": "markdown",
   "metadata": {},
   "source": [
    "#### Self join\n",
    "Merging a table to itself can be useful when you want to compare values in a column to other values in the same column. In this exercise, you will practice this by creating a table that for each movie will list the movie director and a member of the crew on one row. You have been given a table called crews, which has columns id, job, and name. First, merge the table to itself using the movie ID. This merge will give you a larger table where for each movie, every job is matched against each other. Then select only those rows with a director in the left table, and avoid having a row where the director's job is listed in both the left and right tables. This filtering will remove job combinations that aren't with the director."
   ]
  },
  {
   "cell_type": "code",
   "execution_count": 56,
   "metadata": {},
   "outputs": [
    {
     "name": "stdout",
     "output_type": "stream",
     "text": [
      "   Unnamed: 0     id  department             job               name\n",
      "0           0  19995     Editing          Editor  Stephen E. Rivkin\n",
      "1           2  19995       Sound  Sound Designer  Christopher Boyes\n",
      "2           4  19995  Production         Casting          Mali Finn\n",
      "3           6  19995   Directing        Director      James Cameron\n",
      "4           7  19995     Writing          Writer      James Cameron\n"
     ]
    }
   ],
   "source": [
    "crews = pd.read_csv(\"crews.csv\")\n",
    "print(crews.head())"
   ]
  },
  {
   "cell_type": "code",
   "execution_count": 57,
   "metadata": {},
   "outputs": [
    {
     "name": "stdout",
     "output_type": "stream",
     "text": [
      "        Unnamed: 0_dir     id department_dir   job_dir           name_dir  \\\n",
      "0                    0  19995        Editing    Editor  Stephen E. Rivkin   \n",
      "1                    0  19995        Editing    Editor  Stephen E. Rivkin   \n",
      "2                    0  19995        Editing    Editor  Stephen E. Rivkin   \n",
      "3                    0  19995        Editing    Editor  Stephen E. Rivkin   \n",
      "4                    0  19995        Editing    Editor  Stephen E. Rivkin   \n",
      "...                ...    ...            ...       ...                ...   \n",
      "834189          129579  25975      Directing  Director           Jon Gunn   \n",
      "834190          129580  25975      Directing  Director         Brett Winn   \n",
      "834191          129580  25975      Directing  Director         Brett Winn   \n",
      "834192          129580  25975      Directing  Director         Brett Winn   \n",
      "834193          129580  25975      Directing  Director         Brett Winn   \n",
      "\n",
      "        Unnamed: 0_crew department_crew            job_crew          name_crew  \n",
      "0                     0         Editing              Editor  Stephen E. Rivkin  \n",
      "1                     2           Sound      Sound Designer  Christopher Boyes  \n",
      "2                     4      Production             Casting          Mali Finn  \n",
      "3                     6       Directing            Director      James Cameron  \n",
      "4                     7         Writing              Writer      James Cameron  \n",
      "...                 ...             ...                 ...                ...  \n",
      "834189           129580       Directing            Director         Brett Winn  \n",
      "834190           129576      Production  Executive Producer     Clark Peterson  \n",
      "834191           129578       Directing            Director   Brian Herzlinger  \n",
      "834192           129579       Directing            Director           Jon Gunn  \n",
      "834193           129580       Directing            Director         Brett Winn  \n",
      "\n",
      "[834194 rows x 9 columns]\n"
     ]
    }
   ],
   "source": [
    "# Merge the crews table to itself\n",
    "crews_self_merged = crews.merge(crews, on = \"id\", how = \"inner\", \n",
    "                                suffixes = ([\"_dir\",\"_crew\"]))\n",
    "print(crews_self_merged)"
   ]
  },
  {
   "cell_type": "code",
   "execution_count": 58,
   "metadata": {},
   "outputs": [
    {
     "name": "stdout",
     "output_type": "stream",
     "text": [
      "     Unnamed: 0_dir     id department_dir   job_dir       name_dir  \\\n",
      "156               6  19995      Directing  Director  James Cameron   \n",
      "157               6  19995      Directing  Director  James Cameron   \n",
      "158               6  19995      Directing  Director  James Cameron   \n",
      "160               6  19995      Directing  Director  James Cameron   \n",
      "161               6  19995      Directing  Director  James Cameron   \n",
      "\n",
      "     Unnamed: 0_crew department_crew        job_crew          name_crew  \n",
      "156                0         Editing          Editor  Stephen E. Rivkin  \n",
      "157                2           Sound  Sound Designer  Christopher Boyes  \n",
      "158                4      Production         Casting          Mali Finn  \n",
      "160                7         Writing          Writer      James Cameron  \n",
      "161               24             Art    Set Designer    Richard F. Mays  \n"
     ]
    }
   ],
   "source": [
    "# Merge the crews table to itself\n",
    "crews_self_merged = crews.merge(crews, on='id', how='inner',\n",
    "                                suffixes=('_dir','_crew'))\n",
    "\n",
    "# Create a boolean index to select the appropriate rows\n",
    "boolean_filter = ((crews_self_merged['job_dir'] == 'Director') & \n",
    "                  (crews_self_merged['job_crew'] != 'Director'))\n",
    "direct_crews = crews_self_merged[boolean_filter]\n",
    "\n",
    "# Print the first few rows of direct_crews\n",
    "print(direct_crews.head())"
   ]
  },
  {
   "cell_type": "markdown",
   "metadata": {},
   "source": [
    "<strong>Which one is false?</strong>\n",
    "\n",
    "a)You can merge a table to itself with a right join.<br>\n",
    "b)Merging a table to itself can allow you to compare values in a column to other values in the same column.<br>\n",
    "<strong>c)The pandas module limits you to one merge where you merge a table to itself. You cannot repeat this process over and over.</strong><br>\n",
    "d)Merging a table to itself is like working with two separate tables.\n"
   ]
  },
  {
   "cell_type": "markdown",
   "metadata": {},
   "source": [
    "## Merging on Indexes"
   ]
  },
  {
   "cell_type": "markdown",
   "metadata": {},
   "source": [
    "#### Index merge for movie ratings\n",
    "To practice merging on indexes, you will merge movies and a table called ratings that holds info about movie ratings. Make sure your merge returns all of the rows from the movies table and not all the rows of ratings table need to be included in the result.\n",
    "\n",
    "The movies and ratings tables have been loaded for you."
   ]
  },
  {
   "cell_type": "code",
   "execution_count": 59,
   "metadata": {},
   "outputs": [],
   "source": [
    "with open(\"ratings.p\", \"rb\") as f:\n",
    "    object = pkl.load(f)\n",
    "ratings = pd.DataFrame(object)\n",
    "ratings.to_csv(r'ratings.csv')\n"
   ]
  },
  {
   "cell_type": "code",
   "execution_count": 60,
   "metadata": {},
   "outputs": [
    {
     "name": "stdout",
     "output_type": "stream",
     "text": [
      "        vote_average  vote_count\n",
      "id                              \n",
      "19995            7.2     11800.0\n",
      "285              6.9      4500.0\n",
      "206647           6.3      4466.0\n",
      "49026            7.6      9106.0\n",
      "49529            6.1      2124.0\n"
     ]
    }
   ],
   "source": [
    "ratings = ratings.set_index(\"id\")\n",
    "print(ratings.head())"
   ]
  },
  {
   "cell_type": "code",
   "execution_count": 61,
   "metadata": {},
   "outputs": [
    {
     "name": "stdout",
     "output_type": "stream",
     "text": [
      "                      title  popularity release_date\n",
      "id                                                  \n",
      "257            Oliver Twist   20.415572   2005-09-23\n",
      "14290  Better Luck Tomorrow    3.877036   2002-01-12\n",
      "38365             Grown Ups   38.864027   2010-06-24\n",
      "9672               Infamous    3.680896   2006-11-16\n",
      "12819       Alpha and Omega   12.300789   2010-09-17\n"
     ]
    }
   ],
   "source": [
    "movies = movies.set_index(\"id\")\n",
    "print(movies.head())"
   ]
  },
  {
   "cell_type": "code",
   "execution_count": 62,
   "metadata": {},
   "outputs": [
    {
     "name": "stdout",
     "output_type": "stream",
     "text": [
      "                      title  popularity release_date  vote_average  vote_count\n",
      "id                                                                            \n",
      "257            Oliver Twist   20.415572   2005-09-23           6.7       274.0\n",
      "14290  Better Luck Tomorrow    3.877036   2002-01-12           6.5        27.0\n",
      "38365             Grown Ups   38.864027   2010-06-24           6.0      1705.0\n",
      "9672               Infamous    3.680896   2006-11-16           6.4        60.0\n",
      "12819       Alpha and Omega   12.300789   2010-09-17           5.3       124.0\n"
     ]
    }
   ],
   "source": [
    "# Merge to the movies table the ratings table on the index\n",
    "movies_ratings = movies.merge(ratings, on = \"id\", how = \"left\")\n",
    "\n",
    "# Print the first few rows of movies_ratings\n",
    "print(movies_ratings.head())"
   ]
  },
  {
   "cell_type": "markdown",
   "metadata": {},
   "source": [
    "#### Do sequels earn more?\n",
    "It is time to put together many of the aspects that you have learned in this chapter. In this exercise, you'll find out which movie sequels earned the most compared to the original movie. To answer this question, you will merge a modified version of the sequels and financials tables where their index is the movie ID. You will need to choose a merge type that will return all of the rows from the sequels table and not all the rows of financials table need to be included in the result. From there, you will join the resulting table to itself so that you can compare the revenue values of the original movie to the sequel. Next, you will calculate the difference between the two revenues and sort the resulting dataset."
   ]
  },
  {
   "cell_type": "code",
   "execution_count": 63,
   "metadata": {},
   "outputs": [],
   "source": [
    "with open(\"sequels.p\", \"rb\") as f:\n",
    "    object = pkl.load(f)\n",
    "sequels = pd.DataFrame(object)\n",
    "sequels.to_csv(r'sequels.csv')"
   ]
  },
  {
   "cell_type": "code",
   "execution_count": 64,
   "metadata": {},
   "outputs": [
    {
     "name": "stdout",
     "output_type": "stream",
     "text": [
      "      id         title  sequel\n",
      "0  19995        Avatar    <NA>\n",
      "1    862     Toy Story     863\n",
      "2    863   Toy Story 2   10193\n",
      "3    597       Titanic    <NA>\n",
      "4  24428  The Avengers    <NA>\n"
     ]
    }
   ],
   "source": [
    "print(sequels.head())"
   ]
  },
  {
   "cell_type": "code",
   "execution_count": 65,
   "metadata": {},
   "outputs": [
    {
     "name": "stdout",
     "output_type": "stream",
     "text": [
      "              title  sequel\n",
      "id                         \n",
      "19995        Avatar    <NA>\n",
      "862       Toy Story     863\n",
      "863     Toy Story 2   10193\n",
      "597         Titanic    <NA>\n",
      "24428  The Avengers    <NA>\n"
     ]
    }
   ],
   "source": [
    "sequels = sequels.set_index(\"id\")\n",
    "print(sequels.head())"
   ]
  },
  {
   "cell_type": "code",
   "execution_count": 66,
   "metadata": {},
   "outputs": [
    {
     "name": "stdout",
     "output_type": "stream",
     "text": [
      "   index      id     budget       revenue\n",
      "0      0   19995  237000000  2.787965e+09\n",
      "1      1     285  300000000  9.610000e+08\n",
      "2      2  206647  245000000  8.806746e+08\n",
      "3      3   49026  250000000  1.084939e+09\n",
      "4      4   49529  260000000  2.841391e+08\n"
     ]
    }
   ],
   "source": [
    "print(financials.reset_index().head())"
   ]
  },
  {
   "cell_type": "code",
   "execution_count": 67,
   "metadata": {},
   "outputs": [
    {
     "name": "stdout",
     "output_type": "stream",
     "text": [
      "           budget       revenue\n",
      "id                             \n",
      "19995   237000000  2.787965e+09\n",
      "285     300000000  9.610000e+08\n",
      "206647  245000000  8.806746e+08\n",
      "49026   250000000  1.084939e+09\n",
      "49529   260000000  2.841391e+08\n"
     ]
    }
   ],
   "source": [
    "financials = financials.set_index(\"id\")\n",
    "print(financials.head())"
   ]
  },
  {
   "cell_type": "code",
   "execution_count": 68,
   "metadata": {},
   "outputs": [
    {
     "name": "stdout",
     "output_type": "stream",
     "text": [
      "                                                 title  sequel       budget  \\\n",
      "id                                                                            \n",
      "862                                          Toy Story     863   30000000.0   \n",
      "863                                        Toy Story 2   10193   90000000.0   \n",
      "675          Harry Potter and the Order of the Phoenix     767  150000000.0   \n",
      "121              The Lord of the Rings: The Two Towers     122   79000000.0   \n",
      "120  The Lord of the Rings: The Fellowship of the Ring     121   93000000.0   \n",
      "\n",
      "         revenue  \n",
      "id                \n",
      "862  373554033.0  \n",
      "863  497366869.0  \n",
      "675  938212738.0  \n",
      "121  926287400.0  \n",
      "120  871368364.0  \n"
     ]
    }
   ],
   "source": [
    "# Merge sequels and financials on index id\n",
    "sequels_fin = sequels.merge(financials, on='id', how='left').dropna()\n",
    "print(sequels_fin.head())"
   ]
  },
  {
   "cell_type": "code",
   "execution_count": 69,
   "metadata": {},
   "outputs": [
    {
     "name": "stdout",
     "output_type": "stream",
     "text": [
      "       sequel                                          title_org  sequel_org  \\\n",
      "id                                                                             \n",
      "862       863                                          Toy Story         863   \n",
      "120       121  The Lord of the Rings: The Fellowship of the Ring         121   \n",
      "36557   10764                                      Casino Royale       10764   \n",
      "1771   100402                 Captain America: The First Avenger      100402   \n",
      "87         89               Indiana Jones and the Temple of Doom          89   \n",
      "\n",
      "        budget_org  revenue_org                              title_seq  \\\n",
      "id                                                                       \n",
      "862     30000000.0  373554033.0                            Toy Story 2   \n",
      "120     93000000.0  871368364.0  The Lord of the Rings: The Two Towers   \n",
      "36557  150000000.0  599045960.0                      Quantum of Solace   \n",
      "1771   140000000.0  370569774.0    Captain America: The Winter Soldier   \n",
      "87      28000000.0  333000000.0     Indiana Jones and the Last Crusade   \n",
      "\n",
      "       sequel_seq   budget_seq  revenue_seq         diff  \n",
      "id                                                        \n",
      "862         10193   90000000.0  497366869.0  123812836.0  \n",
      "120           122   79000000.0  926287400.0   54919036.0  \n",
      "36557       37724  200000000.0  586090727.0  -12955233.0  \n",
      "1771       271110  170000000.0  714766572.0  344196798.0  \n",
      "87            217   48000000.0  474171806.0  141171806.0  \n"
     ]
    }
   ],
   "source": [
    "# Self merge with suffixes as inner join with left on sequel and right on id\n",
    "orig_seq = sequels_fin.merge(sequels_fin, how=\"inner\", left_on=\"sequel\", \n",
    "                             right_on=\"id\", right_index = True,\n",
    "                             suffixes=(\"_org\", \"_seq\"))\n",
    " \n",
    "# Add calculation to subtract revenue_org from revenue_seq \n",
    "orig_seq['diff'] = orig_seq['revenue_seq'] - orig_seq['revenue_org']\n",
    "print(orig_seq.head())\n"
   ]
  },
  {
   "cell_type": "code",
   "execution_count": 70,
   "metadata": {},
   "outputs": [
    {
     "name": "stdout",
     "output_type": "stream",
     "text": [
      "                                               title_org  \\\n",
      "id                                                         \n",
      "862                                            Toy Story   \n",
      "120    The Lord of the Rings: The Fellowship of the Ring   \n",
      "36557                                      Casino Royale   \n",
      "1771                  Captain America: The First Avenger   \n",
      "87                  Indiana Jones and the Temple of Doom   \n",
      "\n",
      "                                   title_seq         diff  \n",
      "id                                                         \n",
      "862                              Toy Story 2  123812836.0  \n",
      "120    The Lord of the Rings: The Two Towers   54919036.0  \n",
      "36557                      Quantum of Solace  -12955233.0  \n",
      "1771     Captain America: The Winter Soldier  344196798.0  \n",
      "87        Indiana Jones and the Last Crusade  141171806.0  \n",
      "                                         title_org  \\\n",
      "id                                                   \n",
      "1771            Captain America: The First Avenger   \n",
      "816    Austin Powers: International Man of Mystery   \n",
      "87            Indiana Jones and the Temple of Doom   \n",
      "862                                      Toy Story   \n",
      "36657                                        X-Men   \n",
      "\n",
      "                                   title_seq         diff  \n",
      "id                                                         \n",
      "1771     Captain America: The Winter Soldier  344196798.0  \n",
      "816    Austin Powers: The Spy Who Shagged Me  243256097.0  \n",
      "87        Indiana Jones and the Last Crusade  141171806.0  \n",
      "862                              Toy Story 2  123812836.0  \n",
      "36657                                     X2  111372022.0  \n"
     ]
    }
   ],
   "source": [
    "# Select the title_org, title_seq, and diff \n",
    "titles_diff = orig_seq[['title_org','title_seq','diff']]\n",
    "print(titles_diff.head())\n",
    "\n",
    "# Print the first rows of the sorted titles_diff\n",
    "print(titles_diff.sort_values(\"diff\", ascending = False).head())\n"
   ]
  },
  {
   "cell_type": "code",
   "execution_count": null,
   "metadata": {},
   "outputs": [],
   "source": []
  }
 ],
 "metadata": {
  "kernelspec": {
   "display_name": "Python 3",
   "language": "python",
   "name": "python3"
  },
  "language_info": {
   "codemirror_mode": {
    "name": "ipython",
    "version": 3
   },
   "file_extension": ".py",
   "mimetype": "text/x-python",
   "name": "python",
   "nbconvert_exporter": "python",
   "pygments_lexer": "ipython3",
   "version": "3.8.3"
  }
 },
 "nbformat": 4,
 "nbformat_minor": 4
}
