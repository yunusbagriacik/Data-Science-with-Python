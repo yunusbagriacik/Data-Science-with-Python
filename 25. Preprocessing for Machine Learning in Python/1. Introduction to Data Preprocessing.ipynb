{
 "cells": [
  {
   "cell_type": "markdown",
   "metadata": {},
   "source": [
    "# Course Description\n",
    "\n",
    "This course covers the basics of how and when to perform data preprocessing. This essential step in any machine learning project is when you get your data ready for modeling. Between importing and cleaning your data and fitting your machine learning model is when preprocessing comes into play. You'll learn how to standardize your data so that it's in the right form for your model, create new features to best leverage the information in your dataset, and select the best features to improve your model fit. Finally, you'll have some practice preprocessing by getting a dataset on UFO sightings ready for modeling."
   ]
  },
  {
   "cell_type": "markdown",
   "metadata": {},
   "source": [
    "In this chapter you'll learn exactly what it means to preprocess data. You'll take the first steps in any preprocessing journey, including exploring data types and dealing with missing data."
   ]
  },
  {
   "cell_type": "markdown",
   "metadata": {},
   "source": [
    "## Introduction to preprocessing"
   ]
  },
  {
   "cell_type": "markdown",
   "metadata": {},
   "source": [
    "#### Exploring missing data\n",
    "You've been given a dataset comprised of volunteer information from New York City, stored in the volunteer DataFrame. Explore the dataset using the plethora of methods and attributes pandas has to offer to answer the following question.\n",
    "\n",
    "How many missing values are in the locality column?"
   ]
  },
  {
   "cell_type": "code",
   "execution_count": 1,
   "metadata": {},
   "outputs": [
    {
     "data": {
      "text/html": [
       "<div>\n",
       "<style scoped>\n",
       "    .dataframe tbody tr th:only-of-type {\n",
       "        vertical-align: middle;\n",
       "    }\n",
       "\n",
       "    .dataframe tbody tr th {\n",
       "        vertical-align: top;\n",
       "    }\n",
       "\n",
       "    .dataframe thead th {\n",
       "        text-align: right;\n",
       "    }\n",
       "</style>\n",
       "<table border=\"1\" class=\"dataframe\">\n",
       "  <thead>\n",
       "    <tr style=\"text-align: right;\">\n",
       "      <th></th>\n",
       "      <th>opportunity_id</th>\n",
       "      <th>content_id</th>\n",
       "      <th>vol_requests</th>\n",
       "      <th>event_time</th>\n",
       "      <th>title</th>\n",
       "      <th>hits</th>\n",
       "      <th>summary</th>\n",
       "      <th>is_priority</th>\n",
       "      <th>category_id</th>\n",
       "      <th>category_desc</th>\n",
       "      <th>...</th>\n",
       "      <th>end_date_date</th>\n",
       "      <th>status</th>\n",
       "      <th>Latitude</th>\n",
       "      <th>Longitude</th>\n",
       "      <th>Community Board</th>\n",
       "      <th>Community Council</th>\n",
       "      <th>Census Tract</th>\n",
       "      <th>BIN</th>\n",
       "      <th>BBL</th>\n",
       "      <th>NTA</th>\n",
       "    </tr>\n",
       "  </thead>\n",
       "  <tbody>\n",
       "    <tr>\n",
       "      <th>0</th>\n",
       "      <td>4996</td>\n",
       "      <td>37004</td>\n",
       "      <td>50</td>\n",
       "      <td>0</td>\n",
       "      <td>Volunteers Needed For Rise Up &amp; Stay Put! Home...</td>\n",
       "      <td>737</td>\n",
       "      <td>Building on successful events last summer and ...</td>\n",
       "      <td>NaN</td>\n",
       "      <td>NaN</td>\n",
       "      <td>NaN</td>\n",
       "      <td>...</td>\n",
       "      <td>July 30 2011</td>\n",
       "      <td>approved</td>\n",
       "      <td>NaN</td>\n",
       "      <td>NaN</td>\n",
       "      <td>NaN</td>\n",
       "      <td>NaN</td>\n",
       "      <td>NaN</td>\n",
       "      <td>NaN</td>\n",
       "      <td>NaN</td>\n",
       "      <td>NaN</td>\n",
       "    </tr>\n",
       "    <tr>\n",
       "      <th>1</th>\n",
       "      <td>5008</td>\n",
       "      <td>37036</td>\n",
       "      <td>2</td>\n",
       "      <td>0</td>\n",
       "      <td>Web designer</td>\n",
       "      <td>22</td>\n",
       "      <td>Build a website for an Afghan business</td>\n",
       "      <td>NaN</td>\n",
       "      <td>1.0</td>\n",
       "      <td>Strengthening Communities</td>\n",
       "      <td>...</td>\n",
       "      <td>February 01 2011</td>\n",
       "      <td>approved</td>\n",
       "      <td>NaN</td>\n",
       "      <td>NaN</td>\n",
       "      <td>NaN</td>\n",
       "      <td>NaN</td>\n",
       "      <td>NaN</td>\n",
       "      <td>NaN</td>\n",
       "      <td>NaN</td>\n",
       "      <td>NaN</td>\n",
       "    </tr>\n",
       "    <tr>\n",
       "      <th>2</th>\n",
       "      <td>5016</td>\n",
       "      <td>37143</td>\n",
       "      <td>20</td>\n",
       "      <td>0</td>\n",
       "      <td>Urban Adventures - Ice Skating at Lasker Rink</td>\n",
       "      <td>62</td>\n",
       "      <td>Please join us and the students from Mott Hall...</td>\n",
       "      <td>NaN</td>\n",
       "      <td>1.0</td>\n",
       "      <td>Strengthening Communities</td>\n",
       "      <td>...</td>\n",
       "      <td>January 29 2011</td>\n",
       "      <td>approved</td>\n",
       "      <td>NaN</td>\n",
       "      <td>NaN</td>\n",
       "      <td>NaN</td>\n",
       "      <td>NaN</td>\n",
       "      <td>NaN</td>\n",
       "      <td>NaN</td>\n",
       "      <td>NaN</td>\n",
       "      <td>NaN</td>\n",
       "    </tr>\n",
       "    <tr>\n",
       "      <th>3</th>\n",
       "      <td>5022</td>\n",
       "      <td>37237</td>\n",
       "      <td>500</td>\n",
       "      <td>0</td>\n",
       "      <td>Fight global hunger and support women farmers ...</td>\n",
       "      <td>14</td>\n",
       "      <td>The Oxfam Action Corps is a group of dedicated...</td>\n",
       "      <td>NaN</td>\n",
       "      <td>1.0</td>\n",
       "      <td>Strengthening Communities</td>\n",
       "      <td>...</td>\n",
       "      <td>March 31 2012</td>\n",
       "      <td>approved</td>\n",
       "      <td>NaN</td>\n",
       "      <td>NaN</td>\n",
       "      <td>NaN</td>\n",
       "      <td>NaN</td>\n",
       "      <td>NaN</td>\n",
       "      <td>NaN</td>\n",
       "      <td>NaN</td>\n",
       "      <td>NaN</td>\n",
       "    </tr>\n",
       "    <tr>\n",
       "      <th>4</th>\n",
       "      <td>5055</td>\n",
       "      <td>37425</td>\n",
       "      <td>15</td>\n",
       "      <td>0</td>\n",
       "      <td>Stop 'N' Swap</td>\n",
       "      <td>31</td>\n",
       "      <td>Stop 'N' Swap reduces NYC's waste by finding n...</td>\n",
       "      <td>NaN</td>\n",
       "      <td>4.0</td>\n",
       "      <td>Environment</td>\n",
       "      <td>...</td>\n",
       "      <td>February 05 2011</td>\n",
       "      <td>approved</td>\n",
       "      <td>NaN</td>\n",
       "      <td>NaN</td>\n",
       "      <td>NaN</td>\n",
       "      <td>NaN</td>\n",
       "      <td>NaN</td>\n",
       "      <td>NaN</td>\n",
       "      <td>NaN</td>\n",
       "      <td>NaN</td>\n",
       "    </tr>\n",
       "    <tr>\n",
       "      <th>...</th>\n",
       "      <td>...</td>\n",
       "      <td>...</td>\n",
       "      <td>...</td>\n",
       "      <td>...</td>\n",
       "      <td>...</td>\n",
       "      <td>...</td>\n",
       "      <td>...</td>\n",
       "      <td>...</td>\n",
       "      <td>...</td>\n",
       "      <td>...</td>\n",
       "      <td>...</td>\n",
       "      <td>...</td>\n",
       "      <td>...</td>\n",
       "      <td>...</td>\n",
       "      <td>...</td>\n",
       "      <td>...</td>\n",
       "      <td>...</td>\n",
       "      <td>...</td>\n",
       "      <td>...</td>\n",
       "      <td>...</td>\n",
       "      <td>...</td>\n",
       "    </tr>\n",
       "    <tr>\n",
       "      <th>660</th>\n",
       "      <td>5640</td>\n",
       "      <td>50193</td>\n",
       "      <td>3</td>\n",
       "      <td>0</td>\n",
       "      <td>Volunteer for NYLAG's Food Stamps Project</td>\n",
       "      <td>197</td>\n",
       "      <td>Volunteers needed to file for fair hearings, d...</td>\n",
       "      <td>NaN</td>\n",
       "      <td>2.0</td>\n",
       "      <td>Helping Neighbors in Need</td>\n",
       "      <td>...</td>\n",
       "      <td>November 15 2012</td>\n",
       "      <td>approved</td>\n",
       "      <td>NaN</td>\n",
       "      <td>NaN</td>\n",
       "      <td>NaN</td>\n",
       "      <td>NaN</td>\n",
       "      <td>NaN</td>\n",
       "      <td>NaN</td>\n",
       "      <td>NaN</td>\n",
       "      <td>NaN</td>\n",
       "    </tr>\n",
       "    <tr>\n",
       "      <th>661</th>\n",
       "      <td>5218</td>\n",
       "      <td>38711</td>\n",
       "      <td>10</td>\n",
       "      <td>0</td>\n",
       "      <td>Iridescent Science Studio Open House Volunteers</td>\n",
       "      <td>113</td>\n",
       "      <td>Come out to the South Bronx to help us hold ou...</td>\n",
       "      <td>NaN</td>\n",
       "      <td>1.0</td>\n",
       "      <td>Strengthening Communities</td>\n",
       "      <td>...</td>\n",
       "      <td>April 13 2011</td>\n",
       "      <td>approved</td>\n",
       "      <td>NaN</td>\n",
       "      <td>NaN</td>\n",
       "      <td>NaN</td>\n",
       "      <td>NaN</td>\n",
       "      <td>NaN</td>\n",
       "      <td>NaN</td>\n",
       "      <td>NaN</td>\n",
       "      <td>NaN</td>\n",
       "    </tr>\n",
       "    <tr>\n",
       "      <th>662</th>\n",
       "      <td>5541</td>\n",
       "      <td>47820</td>\n",
       "      <td>1</td>\n",
       "      <td>0</td>\n",
       "      <td>French Translator</td>\n",
       "      <td>145</td>\n",
       "      <td>Volunteer needed to translate written material...</td>\n",
       "      <td>NaN</td>\n",
       "      <td>2.0</td>\n",
       "      <td>Helping Neighbors in Need</td>\n",
       "      <td>...</td>\n",
       "      <td>September 01 2011</td>\n",
       "      <td>approved</td>\n",
       "      <td>NaN</td>\n",
       "      <td>NaN</td>\n",
       "      <td>NaN</td>\n",
       "      <td>NaN</td>\n",
       "      <td>NaN</td>\n",
       "      <td>NaN</td>\n",
       "      <td>NaN</td>\n",
       "      <td>NaN</td>\n",
       "    </tr>\n",
       "    <tr>\n",
       "      <th>663</th>\n",
       "      <td>5398</td>\n",
       "      <td>40722</td>\n",
       "      <td>2</td>\n",
       "      <td>0</td>\n",
       "      <td>Marketing &amp; Advertising Volunteer</td>\n",
       "      <td>330</td>\n",
       "      <td>World Cares Center is looking for individuals ...</td>\n",
       "      <td>NaN</td>\n",
       "      <td>1.0</td>\n",
       "      <td>Strengthening Communities</td>\n",
       "      <td>...</td>\n",
       "      <td>May 31 2012</td>\n",
       "      <td>approved</td>\n",
       "      <td>NaN</td>\n",
       "      <td>NaN</td>\n",
       "      <td>NaN</td>\n",
       "      <td>NaN</td>\n",
       "      <td>NaN</td>\n",
       "      <td>NaN</td>\n",
       "      <td>NaN</td>\n",
       "      <td>NaN</td>\n",
       "    </tr>\n",
       "    <tr>\n",
       "      <th>664</th>\n",
       "      <td>5507</td>\n",
       "      <td>44303</td>\n",
       "      <td>5</td>\n",
       "      <td>0</td>\n",
       "      <td>Volunteer filmmakers to help Mayor's Office wi...</td>\n",
       "      <td>304</td>\n",
       "      <td>Attention all filmmakers, producers, and edito...</td>\n",
       "      <td>NaN</td>\n",
       "      <td>1.0</td>\n",
       "      <td>Strengthening Communities</td>\n",
       "      <td>...</td>\n",
       "      <td>October 06 2012</td>\n",
       "      <td>approved</td>\n",
       "      <td>NaN</td>\n",
       "      <td>NaN</td>\n",
       "      <td>NaN</td>\n",
       "      <td>NaN</td>\n",
       "      <td>NaN</td>\n",
       "      <td>NaN</td>\n",
       "      <td>NaN</td>\n",
       "      <td>NaN</td>\n",
       "    </tr>\n",
       "  </tbody>\n",
       "</table>\n",
       "<p>665 rows × 35 columns</p>\n",
       "</div>"
      ],
      "text/plain": [
       "     opportunity_id  content_id  vol_requests  event_time  \\\n",
       "0              4996       37004            50           0   \n",
       "1              5008       37036             2           0   \n",
       "2              5016       37143            20           0   \n",
       "3              5022       37237           500           0   \n",
       "4              5055       37425            15           0   \n",
       "..              ...         ...           ...         ...   \n",
       "660            5640       50193             3           0   \n",
       "661            5218       38711            10           0   \n",
       "662            5541       47820             1           0   \n",
       "663            5398       40722             2           0   \n",
       "664            5507       44303             5           0   \n",
       "\n",
       "                                                 title  hits  \\\n",
       "0    Volunteers Needed For Rise Up & Stay Put! Home...   737   \n",
       "1                                         Web designer    22   \n",
       "2        Urban Adventures - Ice Skating at Lasker Rink    62   \n",
       "3    Fight global hunger and support women farmers ...    14   \n",
       "4                                        Stop 'N' Swap    31   \n",
       "..                                                 ...   ...   \n",
       "660          Volunteer for NYLAG's Food Stamps Project   197   \n",
       "661    Iridescent Science Studio Open House Volunteers   113   \n",
       "662                                  French Translator   145   \n",
       "663                  Marketing & Advertising Volunteer   330   \n",
       "664  Volunteer filmmakers to help Mayor's Office wi...   304   \n",
       "\n",
       "                                               summary is_priority  \\\n",
       "0    Building on successful events last summer and ...         NaN   \n",
       "1               Build a website for an Afghan business         NaN   \n",
       "2    Please join us and the students from Mott Hall...         NaN   \n",
       "3    The Oxfam Action Corps is a group of dedicated...         NaN   \n",
       "4    Stop 'N' Swap reduces NYC's waste by finding n...         NaN   \n",
       "..                                                 ...         ...   \n",
       "660  Volunteers needed to file for fair hearings, d...         NaN   \n",
       "661  Come out to the South Bronx to help us hold ou...         NaN   \n",
       "662  Volunteer needed to translate written material...         NaN   \n",
       "663  World Cares Center is looking for individuals ...         NaN   \n",
       "664  Attention all filmmakers, producers, and edito...         NaN   \n",
       "\n",
       "     category_id              category_desc  ...      end_date_date    status  \\\n",
       "0            NaN                        NaN  ...       July 30 2011  approved   \n",
       "1            1.0  Strengthening Communities  ...   February 01 2011  approved   \n",
       "2            1.0  Strengthening Communities  ...    January 29 2011  approved   \n",
       "3            1.0  Strengthening Communities  ...      March 31 2012  approved   \n",
       "4            4.0                Environment  ...   February 05 2011  approved   \n",
       "..           ...                        ...  ...                ...       ...   \n",
       "660          2.0  Helping Neighbors in Need  ...   November 15 2012  approved   \n",
       "661          1.0  Strengthening Communities  ...      April 13 2011  approved   \n",
       "662          2.0  Helping Neighbors in Need  ...  September 01 2011  approved   \n",
       "663          1.0  Strengthening Communities  ...        May 31 2012  approved   \n",
       "664          1.0  Strengthening Communities  ...    October 06 2012  approved   \n",
       "\n",
       "    Latitude  Longitude  Community Board Community Council  Census Tract  BIN  \\\n",
       "0        NaN        NaN              NaN                NaN          NaN  NaN   \n",
       "1        NaN        NaN              NaN                NaN          NaN  NaN   \n",
       "2        NaN        NaN              NaN                NaN          NaN  NaN   \n",
       "3        NaN        NaN              NaN                NaN          NaN  NaN   \n",
       "4        NaN        NaN              NaN                NaN          NaN  NaN   \n",
       "..       ...        ...              ...                ...          ...  ...   \n",
       "660      NaN        NaN              NaN                NaN          NaN  NaN   \n",
       "661      NaN        NaN              NaN                NaN          NaN  NaN   \n",
       "662      NaN        NaN              NaN                NaN          NaN  NaN   \n",
       "663      NaN        NaN              NaN                NaN          NaN  NaN   \n",
       "664      NaN        NaN              NaN                NaN          NaN  NaN   \n",
       "\n",
       "     BBL NTA  \n",
       "0    NaN NaN  \n",
       "1    NaN NaN  \n",
       "2    NaN NaN  \n",
       "3    NaN NaN  \n",
       "4    NaN NaN  \n",
       "..   ...  ..  \n",
       "660  NaN NaN  \n",
       "661  NaN NaN  \n",
       "662  NaN NaN  \n",
       "663  NaN NaN  \n",
       "664  NaN NaN  \n",
       "\n",
       "[665 rows x 35 columns]"
      ]
     },
     "execution_count": 1,
     "metadata": {},
     "output_type": "execute_result"
    }
   ],
   "source": [
    "import pandas as pd\n",
    "volunteer = pd.read_csv('volunteer_opportunities.TXT')\n",
    "volunteer"
   ]
  },
  {
   "cell_type": "markdown",
   "metadata": {},
   "source": [
    "#### Exploring missing data\n",
    "You've been given a dataset comprised of volunteer information from New York City, stored in the volunteer DataFrame. Explore the dataset using the plethora of methods and attributes pandas has to offer to answer the following question.\n",
    "\n",
    "How many missing values are in the locality column?"
   ]
  },
  {
   "cell_type": "code",
   "execution_count": 2,
   "metadata": {},
   "outputs": [
    {
     "data": {
      "text/plain": [
       "70"
      ]
     },
     "execution_count": 2,
     "metadata": {},
     "output_type": "execute_result"
    }
   ],
   "source": [
    "volunteer.locality.isna().sum()"
   ]
  },
  {
   "cell_type": "markdown",
   "metadata": {},
   "source": [
    "a.665<br>\n",
    "b.595<br>\n",
    "<strong>c.70</strong><br>\n",
    "d.35"
   ]
  },
  {
   "cell_type": "markdown",
   "metadata": {},
   "source": [
    "Great work! Exploring your data is a crucial first step before preprocessing. Time to start removing missing data!"
   ]
  },
  {
   "cell_type": "markdown",
   "metadata": {},
   "source": [
    "#### Dropping missing data\n",
    "Now that you've explored the volunteer dataset and understand its structure and contents, it's time to begin dropping missing values.\n",
    "\n",
    "In this exercise, you'll drop both columns and rows to create a subset of the volunteer dataset."
   ]
  },
  {
   "cell_type": "code",
   "execution_count": 3,
   "metadata": {},
   "outputs": [
    {
     "name": "stdout",
     "output_type": "stream",
     "text": [
      "First shape: (665, 35)\n",
      "Second shape: (617, 33)\n"
     ]
    }
   ],
   "source": [
    "# first look at the shape of the data\n",
    "print(\"First shape:\", volunteer.shape)\n",
    "\n",
    "# Drop the Latitude and Longitude columns from volunteer\n",
    "volunteer_cols = volunteer.drop(['Latitude','Longitude'], axis = 1)\n",
    "\n",
    "# Drop rows with missing category_desc values from volunteer_cols\n",
    "volunteer_subset = volunteer_cols.dropna(subset = ['category_desc'])\n",
    "\n",
    "# Print out the shape of the subset\n",
    "print(\"Second shape:\", volunteer_subset.shape)"
   ]
  },
  {
   "cell_type": "markdown",
   "metadata": {},
   "source": [
    "Nice work! Remember that you can use Boolean indexing to effectively subset DataFrames."
   ]
  },
  {
   "cell_type": "markdown",
   "metadata": {},
   "source": [
    "## Working with data types"
   ]
  },
  {
   "cell_type": "markdown",
   "metadata": {},
   "source": [
    "#### Exploring data types\n",
    "Taking another look at the dataset comprised of volunteer information from New York City, you want to know what types you'll be working with as you start to do more preprocessing.\n",
    "\n",
    "Which data types are present in the volunteer dataset?"
   ]
  },
  {
   "cell_type": "code",
   "execution_count": 4,
   "metadata": {},
   "outputs": [
    {
     "data": {
      "text/plain": [
       "opportunity_id          int64\n",
       "content_id              int64\n",
       "vol_requests            int64\n",
       "event_time              int64\n",
       "title                  object\n",
       "hits                    int64\n",
       "summary                object\n",
       "is_priority            object\n",
       "category_id           float64\n",
       "category_desc          object\n",
       "amsl                  float64\n",
       "amsl_unit             float64\n",
       "org_title              object\n",
       "org_content_id          int64\n",
       "addresses_count         int64\n",
       "locality               object\n",
       "region                 object\n",
       "postalcode            float64\n",
       "primary_loc           float64\n",
       "display_url            object\n",
       "recurrence_type        object\n",
       "hours                   int64\n",
       "created_date           object\n",
       "last_modified_date     object\n",
       "start_date_date        object\n",
       "end_date_date          object\n",
       "status                 object\n",
       "Latitude              float64\n",
       "Longitude             float64\n",
       "Community Board       float64\n",
       "Community Council     float64\n",
       "Census Tract          float64\n",
       "BIN                   float64\n",
       "BBL                   float64\n",
       "NTA                   float64\n",
       "dtype: object"
      ]
     },
     "execution_count": 4,
     "metadata": {},
     "output_type": "execute_result"
    }
   ],
   "source": [
    "volunteer.dtypes"
   ]
  },
  {
   "cell_type": "markdown",
   "metadata": {},
   "source": [
    "a.Floats and integers only<br>\n",
    "b.Integers only<br>\n",
    "<strong>c.Floats, integers, and objects</strong><br>\n",
    "d.Floats only"
   ]
  },
  {
   "cell_type": "markdown",
   "metadata": {},
   "source": [
    "Correct! All three of these types are present in the DataFrame."
   ]
  },
  {
   "cell_type": "markdown",
   "metadata": {},
   "source": [
    "#### Converting a column type\n",
    "If you take a look at the volunteer dataset types, you'll see that the column hits is type object. But, if you actually look at the column, you'll see that it consists of integers. Let's convert that column to type int."
   ]
  },
  {
   "cell_type": "code",
   "execution_count": 5,
   "metadata": {},
   "outputs": [
    {
     "name": "stdout",
     "output_type": "stream",
     "text": [
      "0    737\n",
      "1     22\n",
      "2     62\n",
      "3     14\n",
      "4     31\n",
      "Name: hits, dtype: int64 \n",
      "\n",
      "opportunity_id          int64\n",
      "content_id              int64\n",
      "vol_requests            int64\n",
      "event_time              int64\n",
      "title                  object\n",
      "hits                    int64\n",
      "summary                object\n",
      "is_priority            object\n",
      "category_id           float64\n",
      "category_desc          object\n",
      "amsl                  float64\n",
      "amsl_unit             float64\n",
      "org_title              object\n",
      "org_content_id          int64\n",
      "addresses_count         int64\n",
      "locality               object\n",
      "region                 object\n",
      "postalcode            float64\n",
      "primary_loc           float64\n",
      "display_url            object\n",
      "recurrence_type        object\n",
      "hours                   int64\n",
      "created_date           object\n",
      "last_modified_date     object\n",
      "start_date_date        object\n",
      "end_date_date          object\n",
      "status                 object\n",
      "Latitude              float64\n",
      "Longitude             float64\n",
      "Community Board       float64\n",
      "Community Council     float64\n",
      "Census Tract          float64\n",
      "BIN                   float64\n",
      "BBL                   float64\n",
      "NTA                   float64\n",
      "dtype: object\n"
     ]
    }
   ],
   "source": [
    "# Print the head of the hits column\n",
    "print(volunteer[\"hits\"].head(), \"\\n\")\n",
    "\n",
    "# Convert the hits column to type int\n",
    "volunteer[\"hits\"] = volunteer.hits.astype('int64') #### it was int32\n",
    "\n",
    "# Look at the dtypes of the dataset\n",
    "print(volunteer.dtypes)\n",
    "\n",
    "\n"
   ]
  },
  {
   "cell_type": "markdown",
   "metadata": {},
   "source": [
    "Nice work! You can use astype to convert between a variety of types."
   ]
  },
  {
   "cell_type": "markdown",
   "metadata": {},
   "source": [
    "## Training and test sets"
   ]
  },
  {
   "cell_type": "markdown",
   "metadata": {},
   "source": [
    "#### Class imbalance\n",
    "In the volunteer dataset, you're thinking about trying to predict the category_desc variable using the other features in the dataset. First, though, you need to know what the class distribution (and imbalance) is for that label.\n",
    "\n",
    "Which descriptions occur less than 50 times in the volunteer dataset?"
   ]
  },
  {
   "cell_type": "code",
   "execution_count": 6,
   "metadata": {},
   "outputs": [
    {
     "data": {
      "text/plain": [
       "Strengthening Communities    307\n",
       "Helping Neighbors in Need    119\n",
       "Education                     92\n",
       "Health                        52\n",
       "Environment                   32\n",
       "Emergency Preparedness        15\n",
       "Name: category_desc, dtype: int64"
      ]
     },
     "execution_count": 6,
     "metadata": {},
     "output_type": "execute_result"
    }
   ],
   "source": [
    "volunteer.category_desc.value_counts()"
   ]
  },
  {
   "cell_type": "markdown",
   "metadata": {},
   "source": [
    "#### Possible Answers\n",
    "\n",
    "a.Emergency Preparedness<br>\n",
    "b.Health<br>\n",
    "c.Environment<br>\n",
    "<strong>d.Environment and Emergency Preparedness</strong>"
   ]
  },
  {
   "cell_type": "markdown",
   "metadata": {},
   "source": [
    "Correct! Both Emergency Preparedness and Environment occur less than 50 times."
   ]
  },
  {
   "cell_type": "code",
   "execution_count": null,
   "metadata": {},
   "outputs": [],
   "source": []
  },
  {
   "cell_type": "markdown",
   "metadata": {},
   "source": [
    "#### Stratified sampling\n",
    "You now know that the distribution of class labels in the category_desc column of the volunteer dataset is uneven. If you wanted to train a model to predict category_desc, you'll need to ensure that the model is trained on a sample of data that is representative of the entire dataset. Stratified sampling is a way to achieve this!"
   ]
  },
  {
   "cell_type": "code",
   "execution_count": 7,
   "metadata": {},
   "outputs": [
    {
     "ename": "ValueError",
     "evalue": "Expected 2D array, got 1D array instead:\narray=[nan 'Strengthening Communities' 'Strengthening Communities'\n 'Strengthening Communities' 'Environment' 'Environment'\n 'Strengthening Communities' 'Helping Neighbors in Need' nan 'Health'\n 'Strengthening Communities' 'Education' 'Strengthening Communities'\n 'Education' 'Helping Neighbors in Need' 'Strengthening Communities'\n 'Helping Neighbors in Need' 'Strengthening Communities'\n 'Helping Neighbors in Need' 'Strengthening Communities' 'Environment'\n 'Environment' 'Health' 'Health' 'Strengthening Communities' nan nan\n 'Health' nan 'Environment' 'Strengthening Communities'\n 'Strengthening Communities' 'Strengthening Communities' 'Health'\n 'Strengthening Communities' 'Environment' 'Helping Neighbors in Need'\n 'Strengthening Communities' 'Helping Neighbors in Need'\n 'Helping Neighbors in Need' 'Environment' 'Strengthening Communities'\n 'Strengthening Communities' 'Education' 'Helping Neighbors in Need'\n 'Environment' 'Education' 'Helping Neighbors in Need'\n 'Emergency Preparedness' 'Environment' 'Strengthening Communities'\n 'Strengthening Communities' nan 'Strengthening Communities'\n 'Helping Neighbors in Need' 'Strengthening Communities'\n 'Strengthening Communities' 'Education' nan 'Strengthening Communities'\n 'Strengthening Communities' 'Education' 'Health' 'Education' 'Education'\n 'Environment' 'Education' 'Education' 'Strengthening Communities'\n 'Strengthening Communities' 'Emergency Preparedness'\n 'Strengthening Communities' 'Health' 'Health' 'Health'\n 'Strengthening Communities' 'Education' 'Strengthening Communities'\n 'Health' 'Health' 'Education' 'Education' 'Health'\n 'Strengthening Communities' 'Education' 'Strengthening Communities' nan\n 'Strengthening Communities' 'Helping Neighbors in Need' 'Health'\n 'Strengthening Communities' 'Strengthening Communities'\n 'Helping Neighbors in Need' 'Strengthening Communities'\n 'Strengthening Communities' 'Helping Neighbors in Need'\n 'Strengthening Communities' 'Strengthening Communities'\n 'Strengthening Communities' 'Helping Neighbors in Need'\n 'Helping Neighbors in Need' 'Strengthening Communities'\n 'Helping Neighbors in Need' 'Education' 'Helping Neighbors in Need'\n 'Strengthening Communities' 'Strengthening Communities'\n 'Strengthening Communities' 'Strengthening Communities'\n 'Strengthening Communities' 'Environment' 'Strengthening Communities'\n 'Education' 'Helping Neighbors in Need' 'Strengthening Communities'\n 'Health' 'Helping Neighbors in Need' 'Helping Neighbors in Need'\n 'Helping Neighbors in Need' 'Education' 'Strengthening Communities'\n 'Health' 'Strengthening Communities' 'Strengthening Communities'\n 'Helping Neighbors in Need' 'Strengthening Communities' 'Education'\n 'Strengthening Communities' 'Strengthening Communities'\n 'Strengthening Communities' 'Strengthening Communities'\n 'Strengthening Communities' 'Strengthening Communities'\n 'Strengthening Communities' 'Health' 'Helping Neighbors in Need'\n 'Helping Neighbors in Need' 'Education' nan 'Education'\n 'Strengthening Communities' 'Strengthening Communities'\n 'Helping Neighbors in Need' 'Helping Neighbors in Need' 'Environment'\n 'Strengthening Communities' 'Education' 'Helping Neighbors in Need'\n 'Helping Neighbors in Need' 'Strengthening Communities' nan\n 'Strengthening Communities' 'Strengthening Communities' 'Education'\n 'Strengthening Communities' 'Education' 'Health' 'Education'\n 'Strengthening Communities' 'Education' 'Strengthening Communities'\n 'Helping Neighbors in Need' 'Health' 'Education'\n 'Helping Neighbors in Need' 'Helping Neighbors in Need'\n 'Helping Neighbors in Need' 'Strengthening Communities'\n 'Strengthening Communities' 'Strengthening Communities'\n 'Strengthening Communities' nan 'Strengthening Communities'\n 'Strengthening Communities' 'Environment' 'Education'\n 'Strengthening Communities' 'Education' 'Strengthening Communities'\n 'Helping Neighbors in Need' 'Helping Neighbors in Need'\n 'Helping Neighbors in Need' 'Helping Neighbors in Need' nan\n 'Strengthening Communities' 'Education' 'Strengthening Communities'\n 'Strengthening Communities' 'Strengthening Communities' 'Education'\n 'Education' 'Strengthening Communities' 'Helping Neighbors in Need'\n 'Strengthening Communities' 'Education' 'Strengthening Communities'\n 'Helping Neighbors in Need' 'Strengthening Communities'\n 'Strengthening Communities' 'Strengthening Communities'\n 'Strengthening Communities' 'Strengthening Communities'\n 'Strengthening Communities' 'Strengthening Communities'\n 'Strengthening Communities' 'Strengthening Communities'\n 'Helping Neighbors in Need' 'Health' 'Strengthening Communities'\n 'Education' 'Strengthening Communities' 'Strengthening Communities'\n 'Helping Neighbors in Need' nan 'Emergency Preparedness' 'Education'\n 'Strengthening Communities' 'Strengthening Communities' 'Environment'\n 'Health' 'Helping Neighbors in Need' 'Education' nan\n 'Strengthening Communities' 'Emergency Preparedness'\n 'Strengthening Communities' 'Strengthening Communities'\n 'Helping Neighbors in Need' 'Helping Neighbors in Need'\n 'Strengthening Communities' 'Helping Neighbors in Need'\n 'Strengthening Communities' 'Environment' 'Helping Neighbors in Need'\n 'Health' nan 'Strengthening Communities' 'Strengthening Communities'\n 'Strengthening Communities' 'Helping Neighbors in Need'\n 'Strengthening Communities' 'Strengthening Communities'\n 'Strengthening Communities' 'Strengthening Communities' 'Health'\n 'Helping Neighbors in Need' 'Health' 'Strengthening Communities'\n 'Environment' 'Strengthening Communities' 'Strengthening Communities' nan\n 'Helping Neighbors in Need' 'Health' 'Helping Neighbors in Need'\n 'Strengthening Communities' 'Strengthening Communities'\n 'Strengthening Communities' nan 'Strengthening Communities'\n 'Helping Neighbors in Need' 'Emergency Preparedness' 'Education'\n 'Strengthening Communities' 'Strengthening Communities' 'Education'\n 'Helping Neighbors in Need' 'Education' 'Helping Neighbors in Need'\n 'Strengthening Communities' 'Strengthening Communities'\n 'Helping Neighbors in Need' 'Strengthening Communities'\n 'Strengthening Communities' 'Strengthening Communities'\n 'Strengthening Communities' 'Education' 'Health'\n 'Helping Neighbors in Need' 'Environment' 'Strengthening Communities'\n 'Helping Neighbors in Need' 'Helping Neighbors in Need'\n 'Strengthening Communities' 'Emergency Preparedness'\n 'Emergency Preparedness' 'Strengthening Communities'\n 'Strengthening Communities' 'Strengthening Communities' nan\n 'Strengthening Communities' 'Education' 'Helping Neighbors in Need'\n 'Strengthening Communities' nan 'Health' 'Education'\n 'Emergency Preparedness' 'Strengthening Communities'\n 'Helping Neighbors in Need' 'Strengthening Communities'\n 'Strengthening Communities' 'Helping Neighbors in Need'\n 'Strengthening Communities' 'Strengthening Communities' 'Education'\n 'Strengthening Communities' 'Strengthening Communities' 'Education'\n 'Education' 'Education' nan 'Strengthening Communities' 'Health'\n 'Strengthening Communities' 'Education' 'Helping Neighbors in Need'\n 'Strengthening Communities' 'Strengthening Communities' 'Education'\n 'Strengthening Communities' 'Health' 'Strengthening Communities' nan\n 'Strengthening Communities' 'Strengthening Communities'\n 'Strengthening Communities' 'Strengthening Communities'\n 'Helping Neighbors in Need' 'Helping Neighbors in Need'\n 'Strengthening Communities' 'Helping Neighbors in Need'\n 'Strengthening Communities' 'Environment' 'Health' 'Education'\n 'Strengthening Communities' 'Helping Neighbors in Need' 'Education'\n 'Strengthening Communities' 'Education' 'Strengthening Communities'\n 'Strengthening Communities' 'Helping Neighbors in Need' 'Environment'\n 'Emergency Preparedness' 'Strengthening Communities' 'Education'\n 'Strengthening Communities' 'Strengthening Communities' 'Education' nan\n 'Strengthening Communities' 'Helping Neighbors in Need'\n 'Helping Neighbors in Need' 'Education' 'Strengthening Communities'\n 'Education' 'Strengthening Communities' 'Strengthening Communities'\n 'Education' 'Strengthening Communities' 'Helping Neighbors in Need'\n 'Strengthening Communities' 'Environment' 'Strengthening Communities'\n 'Education' 'Strengthening Communities' nan 'Helping Neighbors in Need'\n 'Helping Neighbors in Need' 'Helping Neighbors in Need'\n 'Helping Neighbors in Need' 'Strengthening Communities' nan 'Education'\n 'Education' 'Strengthening Communities' 'Strengthening Communities'\n 'Strengthening Communities' 'Health' 'Strengthening Communities'\n 'Strengthening Communities' 'Environment' nan 'Strengthening Communities'\n 'Strengthening Communities' 'Strengthening Communities'\n 'Strengthening Communities' 'Helping Neighbors in Need' nan\n 'Strengthening Communities' 'Strengthening Communities'\n 'Strengthening Communities' 'Strengthening Communities'\n 'Strengthening Communities' nan 'Strengthening Communities' 'Health'\n 'Emergency Preparedness' 'Strengthening Communities'\n 'Strengthening Communities' 'Education' 'Health'\n 'Strengthening Communities' nan 'Strengthening Communities' 'Education'\n 'Strengthening Communities' 'Strengthening Communities'\n 'Helping Neighbors in Need' 'Helping Neighbors in Need'\n 'Helping Neighbors in Need' 'Strengthening Communities' nan\n 'Strengthening Communities' 'Strengthening Communities'\n 'Strengthening Communities' 'Strengthening Communities'\n 'Helping Neighbors in Need' 'Strengthening Communities'\n 'Strengthening Communities' 'Health' 'Helping Neighbors in Need' 'Health'\n 'Education' 'Strengthening Communities' 'Education'\n 'Strengthening Communities' 'Helping Neighbors in Need'\n 'Strengthening Communities' nan 'Helping Neighbors in Need'\n 'Strengthening Communities' 'Environment' nan nan 'Health' 'Health'\n 'Helping Neighbors in Need' 'Strengthening Communities'\n 'Helping Neighbors in Need' 'Strengthening Communities' 'Education'\n 'Helping Neighbors in Need' 'Strengthening Communities'\n 'Helping Neighbors in Need' 'Helping Neighbors in Need'\n 'Strengthening Communities' 'Strengthening Communities' 'Education'\n 'Strengthening Communities' 'Strengthening Communities'\n 'Emergency Preparedness' nan 'Environment' 'Strengthening Communities'\n 'Strengthening Communities' 'Helping Neighbors in Need'\n 'Emergency Preparedness' 'Emergency Preparedness' nan\n 'Strengthening Communities' 'Education' 'Education'\n 'Strengthening Communities' 'Strengthening Communities' 'Education'\n 'Education' 'Strengthening Communities' nan 'Strengthening Communities'\n 'Helping Neighbors in Need' 'Strengthening Communities'\n 'Strengthening Communities' 'Health' 'Health' 'Helping Neighbors in Need'\n 'Strengthening Communities' 'Strengthening Communities'\n 'Strengthening Communities' 'Strengthening Communities'\n 'Helping Neighbors in Need' 'Environment' 'Education'\n 'Strengthening Communities' 'Helping Neighbors in Need'\n 'Strengthening Communities' 'Strengthening Communities'\n 'Strengthening Communities' 'Education' 'Education' 'Environment'\n 'Environment' 'Helping Neighbors in Need' 'Helping Neighbors in Need'\n 'Health' 'Education' 'Education' 'Strengthening Communities' 'Health' nan\n 'Environment' 'Helping Neighbors in Need' nan 'Strengthening Communities'\n 'Strengthening Communities' 'Strengthening Communities'\n 'Helping Neighbors in Need' 'Strengthening Communities'\n 'Strengthening Communities' 'Environment' 'Education'\n 'Strengthening Communities' 'Strengthening Communities'\n 'Strengthening Communities' 'Strengthening Communities' 'Education' nan\n 'Strengthening Communities' 'Helping Neighbors in Need'\n 'Strengthening Communities' 'Helping Neighbors in Need' 'Education'\n 'Education' 'Strengthening Communities' 'Strengthening Communities'\n 'Education' 'Education' 'Strengthening Communities'\n 'Strengthening Communities' 'Strengthening Communities'\n 'Strengthening Communities' 'Strengthening Communities' 'Education'\n 'Health' 'Strengthening Communities' 'Health' 'Education'\n 'Strengthening Communities' 'Education' 'Strengthening Communities'\n 'Strengthening Communities' 'Strengthening Communities'\n 'Strengthening Communities' 'Strengthening Communities'\n 'Strengthening Communities' 'Strengthening Communities'\n 'Strengthening Communities' 'Helping Neighbors in Need' 'Health' nan\n 'Strengthening Communities' 'Strengthening Communities' nan 'Education'\n 'Health' 'Helping Neighbors in Need' 'Strengthening Communities'\n 'Strengthening Communities' 'Helping Neighbors in Need'\n 'Strengthening Communities' 'Strengthening Communities'\n 'Helping Neighbors in Need' 'Emergency Preparedness'\n 'Strengthening Communities' 'Strengthening Communities'\n 'Strengthening Communities' nan 'Education' 'Helping Neighbors in Need'\n 'Strengthening Communities' nan 'Strengthening Communities'\n 'Strengthening Communities' 'Strengthening Communities' 'Education'\n 'Health' 'Health' 'Strengthening Communities' 'Health'\n 'Strengthening Communities' 'Strengthening Communities'\n 'Strengthening Communities' 'Strengthening Communities' nan 'Education'\n 'Strengthening Communities' 'Strengthening Communities' 'Environment'\n 'Strengthening Communities' 'Strengthening Communities'\n 'Strengthening Communities' 'Strengthening Communities' nan\n 'Emergency Preparedness' 'Helping Neighbors in Need'\n 'Strengthening Communities' 'Strengthening Communities' 'Health' 'Health'\n nan 'Helping Neighbors in Need' 'Strengthening Communities' 'Education'\n 'Helping Neighbors in Need' 'Education' 'Helping Neighbors in Need'\n 'Helping Neighbors in Need' 'Strengthening Communities' 'Health'\n 'Helping Neighbors in Need' 'Education' 'Strengthening Communities'\n 'Strengthening Communities' 'Strengthening Communities'\n 'Strengthening Communities' 'Education' 'Strengthening Communities'\n 'Strengthening Communities' 'Strengthening Communities' 'Education'\n 'Helping Neighbors in Need' 'Health' 'Strengthening Communities'\n 'Environment' nan 'Education' 'Strengthening Communities' nan\n 'Strengthening Communities' 'Strengthening Communities'\n 'Strengthening Communities' 'Helping Neighbors in Need'\n 'Strengthening Communities' 'Helping Neighbors in Need'\n 'Strengthening Communities' 'Helping Neighbors in Need'\n 'Strengthening Communities' 'Helping Neighbors in Need'\n 'Strengthening Communities' 'Strengthening Communities'\n 'Helping Neighbors in Need' 'Helping Neighbors in Need'\n 'Strengthening Communities' nan 'Strengthening Communities'\n 'Strengthening Communities' 'Strengthening Communities'\n 'Helping Neighbors in Need' 'Environment' 'Helping Neighbors in Need'\n 'Strengthening Communities' 'Environment' 'Strengthening Communities'\n 'Strengthening Communities' 'Strengthening Communities'\n 'Strengthening Communities' 'Health' 'Helping Neighbors in Need'\n 'Helping Neighbors in Need' 'Strengthening Communities'\n 'Helping Neighbors in Need' 'Strengthening Communities'\n 'Strengthening Communities'].\nReshape your data either using array.reshape(-1, 1) if your data has a single feature or array.reshape(1, -1) if it contains a single sample.",
     "output_type": "error",
     "traceback": [
      "\u001b[1;31m---------------------------------------------------------------------------\u001b[0m",
      "\u001b[1;31mValueError\u001b[0m                                Traceback (most recent call last)",
      "\u001b[1;32m<ipython-input-7-ba153681eca9>\u001b[0m in \u001b[0;36m<module>\u001b[1;34m\u001b[0m\n\u001b[0;32m     13\u001b[0m                                                   \u001b[1;31m# we cannot do mean,median or smth related to numeric data\u001b[0m\u001b[1;33m\u001b[0m\u001b[1;33m\u001b[0m\u001b[1;33m\u001b[0m\u001b[0m\n\u001b[0;32m     14\u001b[0m \u001b[0mX\u001b[0m \u001b[1;33m=\u001b[0m \u001b[0mimputer\u001b[0m\u001b[1;33m.\u001b[0m\u001b[0mfit_transform\u001b[0m\u001b[1;33m(\u001b[0m\u001b[0mX\u001b[0m\u001b[1;33m)\u001b[0m\u001b[1;33m\u001b[0m\u001b[1;33m\u001b[0m\u001b[0m\n\u001b[1;32m---> 15\u001b[1;33m \u001b[0my\u001b[0m \u001b[1;33m=\u001b[0m \u001b[0mimputer\u001b[0m\u001b[1;33m.\u001b[0m\u001b[0mfit_transform\u001b[0m\u001b[1;33m(\u001b[0m\u001b[0my\u001b[0m\u001b[1;33m)\u001b[0m\u001b[1;33m\u001b[0m\u001b[1;33m\u001b[0m\u001b[0m\n\u001b[0m\u001b[0;32m     16\u001b[0m \u001b[1;33m\u001b[0m\u001b[0m\n\u001b[0;32m     17\u001b[0m \u001b[1;31m# Use stratified sampling to split up the dataset according to the y dataset\u001b[0m\u001b[1;33m\u001b[0m\u001b[1;33m\u001b[0m\u001b[1;33m\u001b[0m\u001b[0m\n",
      "\u001b[1;32m~\\anaconda3\\lib\\site-packages\\sklearn\\utils\\_set_output.py\u001b[0m in \u001b[0;36mwrapped\u001b[1;34m(self, X, *args, **kwargs)\u001b[0m\n\u001b[0;32m    138\u001b[0m     \u001b[1;33m@\u001b[0m\u001b[0mwraps\u001b[0m\u001b[1;33m(\u001b[0m\u001b[0mf\u001b[0m\u001b[1;33m)\u001b[0m\u001b[1;33m\u001b[0m\u001b[1;33m\u001b[0m\u001b[0m\n\u001b[0;32m    139\u001b[0m     \u001b[1;32mdef\u001b[0m \u001b[0mwrapped\u001b[0m\u001b[1;33m(\u001b[0m\u001b[0mself\u001b[0m\u001b[1;33m,\u001b[0m \u001b[0mX\u001b[0m\u001b[1;33m,\u001b[0m \u001b[1;33m*\u001b[0m\u001b[0margs\u001b[0m\u001b[1;33m,\u001b[0m \u001b[1;33m**\u001b[0m\u001b[0mkwargs\u001b[0m\u001b[1;33m)\u001b[0m\u001b[1;33m:\u001b[0m\u001b[1;33m\u001b[0m\u001b[1;33m\u001b[0m\u001b[0m\n\u001b[1;32m--> 140\u001b[1;33m         \u001b[0mdata_to_wrap\u001b[0m \u001b[1;33m=\u001b[0m \u001b[0mf\u001b[0m\u001b[1;33m(\u001b[0m\u001b[0mself\u001b[0m\u001b[1;33m,\u001b[0m \u001b[0mX\u001b[0m\u001b[1;33m,\u001b[0m \u001b[1;33m*\u001b[0m\u001b[0margs\u001b[0m\u001b[1;33m,\u001b[0m \u001b[1;33m**\u001b[0m\u001b[0mkwargs\u001b[0m\u001b[1;33m)\u001b[0m\u001b[1;33m\u001b[0m\u001b[1;33m\u001b[0m\u001b[0m\n\u001b[0m\u001b[0;32m    141\u001b[0m         \u001b[1;32mif\u001b[0m \u001b[0misinstance\u001b[0m\u001b[1;33m(\u001b[0m\u001b[0mdata_to_wrap\u001b[0m\u001b[1;33m,\u001b[0m \u001b[0mtuple\u001b[0m\u001b[1;33m)\u001b[0m\u001b[1;33m:\u001b[0m\u001b[1;33m\u001b[0m\u001b[1;33m\u001b[0m\u001b[0m\n\u001b[0;32m    142\u001b[0m             \u001b[1;31m# only wrap the first output for cross decomposition\u001b[0m\u001b[1;33m\u001b[0m\u001b[1;33m\u001b[0m\u001b[1;33m\u001b[0m\u001b[0m\n",
      "\u001b[1;32m~\\anaconda3\\lib\\site-packages\\sklearn\\base.py\u001b[0m in \u001b[0;36mfit_transform\u001b[1;34m(self, X, y, **fit_params)\u001b[0m\n\u001b[0;32m    876\u001b[0m         \u001b[1;32mif\u001b[0m \u001b[0my\u001b[0m \u001b[1;32mis\u001b[0m \u001b[1;32mNone\u001b[0m\u001b[1;33m:\u001b[0m\u001b[1;33m\u001b[0m\u001b[1;33m\u001b[0m\u001b[0m\n\u001b[0;32m    877\u001b[0m             \u001b[1;31m# fit method of arity 1 (unsupervised transformation)\u001b[0m\u001b[1;33m\u001b[0m\u001b[1;33m\u001b[0m\u001b[1;33m\u001b[0m\u001b[0m\n\u001b[1;32m--> 878\u001b[1;33m             \u001b[1;32mreturn\u001b[0m \u001b[0mself\u001b[0m\u001b[1;33m.\u001b[0m\u001b[0mfit\u001b[0m\u001b[1;33m(\u001b[0m\u001b[0mX\u001b[0m\u001b[1;33m,\u001b[0m \u001b[1;33m**\u001b[0m\u001b[0mfit_params\u001b[0m\u001b[1;33m)\u001b[0m\u001b[1;33m.\u001b[0m\u001b[0mtransform\u001b[0m\u001b[1;33m(\u001b[0m\u001b[0mX\u001b[0m\u001b[1;33m)\u001b[0m\u001b[1;33m\u001b[0m\u001b[1;33m\u001b[0m\u001b[0m\n\u001b[0m\u001b[0;32m    879\u001b[0m         \u001b[1;32melse\u001b[0m\u001b[1;33m:\u001b[0m\u001b[1;33m\u001b[0m\u001b[1;33m\u001b[0m\u001b[0m\n\u001b[0;32m    880\u001b[0m             \u001b[1;31m# fit method of arity 2 (supervised transformation)\u001b[0m\u001b[1;33m\u001b[0m\u001b[1;33m\u001b[0m\u001b[1;33m\u001b[0m\u001b[0m\n",
      "\u001b[1;32m~\\anaconda3\\lib\\site-packages\\sklearn\\impute\\_base.py\u001b[0m in \u001b[0;36mfit\u001b[1;34m(self, X, y)\u001b[0m\n\u001b[0;32m    388\u001b[0m             )\n\u001b[0;32m    389\u001b[0m \u001b[1;33m\u001b[0m\u001b[0m\n\u001b[1;32m--> 390\u001b[1;33m         \u001b[0mX\u001b[0m \u001b[1;33m=\u001b[0m \u001b[0mself\u001b[0m\u001b[1;33m.\u001b[0m\u001b[0m_validate_input\u001b[0m\u001b[1;33m(\u001b[0m\u001b[0mX\u001b[0m\u001b[1;33m,\u001b[0m \u001b[0min_fit\u001b[0m\u001b[1;33m=\u001b[0m\u001b[1;32mTrue\u001b[0m\u001b[1;33m)\u001b[0m\u001b[1;33m\u001b[0m\u001b[1;33m\u001b[0m\u001b[0m\n\u001b[0m\u001b[0;32m    391\u001b[0m \u001b[1;33m\u001b[0m\u001b[0m\n\u001b[0;32m    392\u001b[0m         \u001b[1;31m# default fill_value is 0 for numerical input and \"missing_value\"\u001b[0m\u001b[1;33m\u001b[0m\u001b[1;33m\u001b[0m\u001b[1;33m\u001b[0m\u001b[0m\n",
      "\u001b[1;32m~\\anaconda3\\lib\\site-packages\\sklearn\\impute\\_base.py\u001b[0m in \u001b[0;36m_validate_input\u001b[1;34m(self, X, in_fit)\u001b[0m\n\u001b[0;32m    342\u001b[0m                 \u001b[1;32mraise\u001b[0m \u001b[0mnew_ve\u001b[0m \u001b[1;32mfrom\u001b[0m \u001b[1;32mNone\u001b[0m\u001b[1;33m\u001b[0m\u001b[1;33m\u001b[0m\u001b[0m\n\u001b[0;32m    343\u001b[0m             \u001b[1;32melse\u001b[0m\u001b[1;33m:\u001b[0m\u001b[1;33m\u001b[0m\u001b[1;33m\u001b[0m\u001b[0m\n\u001b[1;32m--> 344\u001b[1;33m                 \u001b[1;32mraise\u001b[0m \u001b[0mve\u001b[0m\u001b[1;33m\u001b[0m\u001b[1;33m\u001b[0m\u001b[0m\n\u001b[0m\u001b[0;32m    345\u001b[0m \u001b[1;33m\u001b[0m\u001b[0m\n\u001b[0;32m    346\u001b[0m         \u001b[1;32mif\u001b[0m \u001b[0min_fit\u001b[0m\u001b[1;33m:\u001b[0m\u001b[1;33m\u001b[0m\u001b[1;33m\u001b[0m\u001b[0m\n",
      "\u001b[1;32m~\\anaconda3\\lib\\site-packages\\sklearn\\impute\\_base.py\u001b[0m in \u001b[0;36m_validate_input\u001b[1;34m(self, X, in_fit)\u001b[0m\n\u001b[0;32m    325\u001b[0m \u001b[1;33m\u001b[0m\u001b[0m\n\u001b[0;32m    326\u001b[0m         \u001b[1;32mtry\u001b[0m\u001b[1;33m:\u001b[0m\u001b[1;33m\u001b[0m\u001b[1;33m\u001b[0m\u001b[0m\n\u001b[1;32m--> 327\u001b[1;33m             X = self._validate_data(\n\u001b[0m\u001b[0;32m    328\u001b[0m                 \u001b[0mX\u001b[0m\u001b[1;33m,\u001b[0m\u001b[1;33m\u001b[0m\u001b[1;33m\u001b[0m\u001b[0m\n\u001b[0;32m    329\u001b[0m                 \u001b[0mreset\u001b[0m\u001b[1;33m=\u001b[0m\u001b[0min_fit\u001b[0m\u001b[1;33m,\u001b[0m\u001b[1;33m\u001b[0m\u001b[1;33m\u001b[0m\u001b[0m\n",
      "\u001b[1;32m~\\anaconda3\\lib\\site-packages\\sklearn\\base.py\u001b[0m in \u001b[0;36m_validate_data\u001b[1;34m(self, X, y, reset, validate_separately, **check_params)\u001b[0m\n\u001b[0;32m    563\u001b[0m             \u001b[1;32mraise\u001b[0m \u001b[0mValueError\u001b[0m\u001b[1;33m(\u001b[0m\u001b[1;34m\"Validation should be done on X, y or both.\"\u001b[0m\u001b[1;33m)\u001b[0m\u001b[1;33m\u001b[0m\u001b[1;33m\u001b[0m\u001b[0m\n\u001b[0;32m    564\u001b[0m         \u001b[1;32melif\u001b[0m \u001b[1;32mnot\u001b[0m \u001b[0mno_val_X\u001b[0m \u001b[1;32mand\u001b[0m \u001b[0mno_val_y\u001b[0m\u001b[1;33m:\u001b[0m\u001b[1;33m\u001b[0m\u001b[1;33m\u001b[0m\u001b[0m\n\u001b[1;32m--> 565\u001b[1;33m             \u001b[0mX\u001b[0m \u001b[1;33m=\u001b[0m \u001b[0mcheck_array\u001b[0m\u001b[1;33m(\u001b[0m\u001b[0mX\u001b[0m\u001b[1;33m,\u001b[0m \u001b[0minput_name\u001b[0m\u001b[1;33m=\u001b[0m\u001b[1;34m\"X\"\u001b[0m\u001b[1;33m,\u001b[0m \u001b[1;33m**\u001b[0m\u001b[0mcheck_params\u001b[0m\u001b[1;33m)\u001b[0m\u001b[1;33m\u001b[0m\u001b[1;33m\u001b[0m\u001b[0m\n\u001b[0m\u001b[0;32m    566\u001b[0m             \u001b[0mout\u001b[0m \u001b[1;33m=\u001b[0m \u001b[0mX\u001b[0m\u001b[1;33m\u001b[0m\u001b[1;33m\u001b[0m\u001b[0m\n\u001b[0;32m    567\u001b[0m         \u001b[1;32melif\u001b[0m \u001b[0mno_val_X\u001b[0m \u001b[1;32mand\u001b[0m \u001b[1;32mnot\u001b[0m \u001b[0mno_val_y\u001b[0m\u001b[1;33m:\u001b[0m\u001b[1;33m\u001b[0m\u001b[1;33m\u001b[0m\u001b[0m\n",
      "\u001b[1;32m~\\anaconda3\\lib\\site-packages\\sklearn\\utils\\validation.py\u001b[0m in \u001b[0;36mcheck_array\u001b[1;34m(array, accept_sparse, accept_large_sparse, dtype, order, copy, force_all_finite, ensure_2d, allow_nd, ensure_min_samples, ensure_min_features, estimator, input_name)\u001b[0m\n\u001b[0;32m    900\u001b[0m             \u001b[1;31m# If input is 1D raise error\u001b[0m\u001b[1;33m\u001b[0m\u001b[1;33m\u001b[0m\u001b[1;33m\u001b[0m\u001b[0m\n\u001b[0;32m    901\u001b[0m             \u001b[1;32mif\u001b[0m \u001b[0marray\u001b[0m\u001b[1;33m.\u001b[0m\u001b[0mndim\u001b[0m \u001b[1;33m==\u001b[0m \u001b[1;36m1\u001b[0m\u001b[1;33m:\u001b[0m\u001b[1;33m\u001b[0m\u001b[1;33m\u001b[0m\u001b[0m\n\u001b[1;32m--> 902\u001b[1;33m                 raise ValueError(\n\u001b[0m\u001b[0;32m    903\u001b[0m                     \u001b[1;34m\"Expected 2D array, got 1D array instead:\\narray={}.\\n\"\u001b[0m\u001b[1;33m\u001b[0m\u001b[1;33m\u001b[0m\u001b[0m\n\u001b[0;32m    904\u001b[0m                     \u001b[1;34m\"Reshape your data either using array.reshape(-1, 1) if \"\u001b[0m\u001b[1;33m\u001b[0m\u001b[1;33m\u001b[0m\u001b[0m\n",
      "\u001b[1;31mValueError\u001b[0m: Expected 2D array, got 1D array instead:\narray=[nan 'Strengthening Communities' 'Strengthening Communities'\n 'Strengthening Communities' 'Environment' 'Environment'\n 'Strengthening Communities' 'Helping Neighbors in Need' nan 'Health'\n 'Strengthening Communities' 'Education' 'Strengthening Communities'\n 'Education' 'Helping Neighbors in Need' 'Strengthening Communities'\n 'Helping Neighbors in Need' 'Strengthening Communities'\n 'Helping Neighbors in Need' 'Strengthening Communities' 'Environment'\n 'Environment' 'Health' 'Health' 'Strengthening Communities' nan nan\n 'Health' nan 'Environment' 'Strengthening Communities'\n 'Strengthening Communities' 'Strengthening Communities' 'Health'\n 'Strengthening Communities' 'Environment' 'Helping Neighbors in Need'\n 'Strengthening Communities' 'Helping Neighbors in Need'\n 'Helping Neighbors in Need' 'Environment' 'Strengthening Communities'\n 'Strengthening Communities' 'Education' 'Helping Neighbors in Need'\n 'Environment' 'Education' 'Helping Neighbors in Need'\n 'Emergency Preparedness' 'Environment' 'Strengthening Communities'\n 'Strengthening Communities' nan 'Strengthening Communities'\n 'Helping Neighbors in Need' 'Strengthening Communities'\n 'Strengthening Communities' 'Education' nan 'Strengthening Communities'\n 'Strengthening Communities' 'Education' 'Health' 'Education' 'Education'\n 'Environment' 'Education' 'Education' 'Strengthening Communities'\n 'Strengthening Communities' 'Emergency Preparedness'\n 'Strengthening Communities' 'Health' 'Health' 'Health'\n 'Strengthening Communities' 'Education' 'Strengthening Communities'\n 'Health' 'Health' 'Education' 'Education' 'Health'\n 'Strengthening Communities' 'Education' 'Strengthening Communities' nan\n 'Strengthening Communities' 'Helping Neighbors in Need' 'Health'\n 'Strengthening Communities' 'Strengthening Communities'\n 'Helping Neighbors in Need' 'Strengthening Communities'\n 'Strengthening Communities' 'Helping Neighbors in Need'\n 'Strengthening Communities' 'Strengthening Communities'\n 'Strengthening Communities' 'Helping Neighbors in Need'\n 'Helping Neighbors in Need' 'Strengthening Communities'\n 'Helping Neighbors in Need' 'Education' 'Helping Neighbors in Need'\n 'Strengthening Communities' 'Strengthening Communities'\n 'Strengthening Communities' 'Strengthening Communities'\n 'Strengthening Communities' 'Environment' 'Strengthening Communities'\n 'Education' 'Helping Neighbors in Need' 'Strengthening Communities'\n 'Health' 'Helping Neighbors in Need' 'Helping Neighbors in Need'\n 'Helping Neighbors in Need' 'Education' 'Strengthening Communities'\n 'Health' 'Strengthening Communities' 'Strengthening Communities'\n 'Helping Neighbors in Need' 'Strengthening Communities' 'Education'\n 'Strengthening Communities' 'Strengthening Communities'\n 'Strengthening Communities' 'Strengthening Communities'\n 'Strengthening Communities' 'Strengthening Communities'\n 'Strengthening Communities' 'Health' 'Helping Neighbors in Need'\n 'Helping Neighbors in Need' 'Education' nan 'Education'\n 'Strengthening Communities' 'Strengthening Communities'\n 'Helping Neighbors in Need' 'Helping Neighbors in Need' 'Environment'\n 'Strengthening Communities' 'Education' 'Helping Neighbors in Need'\n 'Helping Neighbors in Need' 'Strengthening Communities' nan\n 'Strengthening Communities' 'Strengthening Communities' 'Education'\n 'Strengthening Communities' 'Education' 'Health' 'Education'\n 'Strengthening Communities' 'Education' 'Strengthening Communities'\n 'Helping Neighbors in Need' 'Health' 'Education'\n 'Helping Neighbors in Need' 'Helping Neighbors in Need'\n 'Helping Neighbors in Need' 'Strengthening Communities'\n 'Strengthening Communities' 'Strengthening Communities'\n 'Strengthening Communities' nan 'Strengthening Communities'\n 'Strengthening Communities' 'Environment' 'Education'\n 'Strengthening Communities' 'Education' 'Strengthening Communities'\n 'Helping Neighbors in Need' 'Helping Neighbors in Need'\n 'Helping Neighbors in Need' 'Helping Neighbors in Need' nan\n 'Strengthening Communities' 'Education' 'Strengthening Communities'\n 'Strengthening Communities' 'Strengthening Communities' 'Education'\n 'Education' 'Strengthening Communities' 'Helping Neighbors in Need'\n 'Strengthening Communities' 'Education' 'Strengthening Communities'\n 'Helping Neighbors in Need' 'Strengthening Communities'\n 'Strengthening Communities' 'Strengthening Communities'\n 'Strengthening Communities' 'Strengthening Communities'\n 'Strengthening Communities' 'Strengthening Communities'\n 'Strengthening Communities' 'Strengthening Communities'\n 'Helping Neighbors in Need' 'Health' 'Strengthening Communities'\n 'Education' 'Strengthening Communities' 'Strengthening Communities'\n 'Helping Neighbors in Need' nan 'Emergency Preparedness' 'Education'\n 'Strengthening Communities' 'Strengthening Communities' 'Environment'\n 'Health' 'Helping Neighbors in Need' 'Education' nan\n 'Strengthening Communities' 'Emergency Preparedness'\n 'Strengthening Communities' 'Strengthening Communities'\n 'Helping Neighbors in Need' 'Helping Neighbors in Need'\n 'Strengthening Communities' 'Helping Neighbors in Need'\n 'Strengthening Communities' 'Environment' 'Helping Neighbors in Need'\n 'Health' nan 'Strengthening Communities' 'Strengthening Communities'\n 'Strengthening Communities' 'Helping Neighbors in Need'\n 'Strengthening Communities' 'Strengthening Communities'\n 'Strengthening Communities' 'Strengthening Communities' 'Health'\n 'Helping Neighbors in Need' 'Health' 'Strengthening Communities'\n 'Environment' 'Strengthening Communities' 'Strengthening Communities' nan\n 'Helping Neighbors in Need' 'Health' 'Helping Neighbors in Need'\n 'Strengthening Communities' 'Strengthening Communities'\n 'Strengthening Communities' nan 'Strengthening Communities'\n 'Helping Neighbors in Need' 'Emergency Preparedness' 'Education'\n 'Strengthening Communities' 'Strengthening Communities' 'Education'\n 'Helping Neighbors in Need' 'Education' 'Helping Neighbors in Need'\n 'Strengthening Communities' 'Strengthening Communities'\n 'Helping Neighbors in Need' 'Strengthening Communities'\n 'Strengthening Communities' 'Strengthening Communities'\n 'Strengthening Communities' 'Education' 'Health'\n 'Helping Neighbors in Need' 'Environment' 'Strengthening Communities'\n 'Helping Neighbors in Need' 'Helping Neighbors in Need'\n 'Strengthening Communities' 'Emergency Preparedness'\n 'Emergency Preparedness' 'Strengthening Communities'\n 'Strengthening Communities' 'Strengthening Communities' nan\n 'Strengthening Communities' 'Education' 'Helping Neighbors in Need'\n 'Strengthening Communities' nan 'Health' 'Education'\n 'Emergency Preparedness' 'Strengthening Communities'\n 'Helping Neighbors in Need' 'Strengthening Communities'\n 'Strengthening Communities' 'Helping Neighbors in Need'\n 'Strengthening Communities' 'Strengthening Communities' 'Education'\n 'Strengthening Communities' 'Strengthening Communities' 'Education'\n 'Education' 'Education' nan 'Strengthening Communities' 'Health'\n 'Strengthening Communities' 'Education' 'Helping Neighbors in Need'\n 'Strengthening Communities' 'Strengthening Communities' 'Education'\n 'Strengthening Communities' 'Health' 'Strengthening Communities' nan\n 'Strengthening Communities' 'Strengthening Communities'\n 'Strengthening Communities' 'Strengthening Communities'\n 'Helping Neighbors in Need' 'Helping Neighbors in Need'\n 'Strengthening Communities' 'Helping Neighbors in Need'\n 'Strengthening Communities' 'Environment' 'Health' 'Education'\n 'Strengthening Communities' 'Helping Neighbors in Need' 'Education'\n 'Strengthening Communities' 'Education' 'Strengthening Communities'\n 'Strengthening Communities' 'Helping Neighbors in Need' 'Environment'\n 'Emergency Preparedness' 'Strengthening Communities' 'Education'\n 'Strengthening Communities' 'Strengthening Communities' 'Education' nan\n 'Strengthening Communities' 'Helping Neighbors in Need'\n 'Helping Neighbors in Need' 'Education' 'Strengthening Communities'\n 'Education' 'Strengthening Communities' 'Strengthening Communities'\n 'Education' 'Strengthening Communities' 'Helping Neighbors in Need'\n 'Strengthening Communities' 'Environment' 'Strengthening Communities'\n 'Education' 'Strengthening Communities' nan 'Helping Neighbors in Need'\n 'Helping Neighbors in Need' 'Helping Neighbors in Need'\n 'Helping Neighbors in Need' 'Strengthening Communities' nan 'Education'\n 'Education' 'Strengthening Communities' 'Strengthening Communities'\n 'Strengthening Communities' 'Health' 'Strengthening Communities'\n 'Strengthening Communities' 'Environment' nan 'Strengthening Communities'\n 'Strengthening Communities' 'Strengthening Communities'\n 'Strengthening Communities' 'Helping Neighbors in Need' nan\n 'Strengthening Communities' 'Strengthening Communities'\n 'Strengthening Communities' 'Strengthening Communities'\n 'Strengthening Communities' nan 'Strengthening Communities' 'Health'\n 'Emergency Preparedness' 'Strengthening Communities'\n 'Strengthening Communities' 'Education' 'Health'\n 'Strengthening Communities' nan 'Strengthening Communities' 'Education'\n 'Strengthening Communities' 'Strengthening Communities'\n 'Helping Neighbors in Need' 'Helping Neighbors in Need'\n 'Helping Neighbors in Need' 'Strengthening Communities' nan\n 'Strengthening Communities' 'Strengthening Communities'\n 'Strengthening Communities' 'Strengthening Communities'\n 'Helping Neighbors in Need' 'Strengthening Communities'\n 'Strengthening Communities' 'Health' 'Helping Neighbors in Need' 'Health'\n 'Education' 'Strengthening Communities' 'Education'\n 'Strengthening Communities' 'Helping Neighbors in Need'\n 'Strengthening Communities' nan 'Helping Neighbors in Need'\n 'Strengthening Communities' 'Environment' nan nan 'Health' 'Health'\n 'Helping Neighbors in Need' 'Strengthening Communities'\n 'Helping Neighbors in Need' 'Strengthening Communities' 'Education'\n 'Helping Neighbors in Need' 'Strengthening Communities'\n 'Helping Neighbors in Need' 'Helping Neighbors in Need'\n 'Strengthening Communities' 'Strengthening Communities' 'Education'\n 'Strengthening Communities' 'Strengthening Communities'\n 'Emergency Preparedness' nan 'Environment' 'Strengthening Communities'\n 'Strengthening Communities' 'Helping Neighbors in Need'\n 'Emergency Preparedness' 'Emergency Preparedness' nan\n 'Strengthening Communities' 'Education' 'Education'\n 'Strengthening Communities' 'Strengthening Communities' 'Education'\n 'Education' 'Strengthening Communities' nan 'Strengthening Communities'\n 'Helping Neighbors in Need' 'Strengthening Communities'\n 'Strengthening Communities' 'Health' 'Health' 'Helping Neighbors in Need'\n 'Strengthening Communities' 'Strengthening Communities'\n 'Strengthening Communities' 'Strengthening Communities'\n 'Helping Neighbors in Need' 'Environment' 'Education'\n 'Strengthening Communities' 'Helping Neighbors in Need'\n 'Strengthening Communities' 'Strengthening Communities'\n 'Strengthening Communities' 'Education' 'Education' 'Environment'\n 'Environment' 'Helping Neighbors in Need' 'Helping Neighbors in Need'\n 'Health' 'Education' 'Education' 'Strengthening Communities' 'Health' nan\n 'Environment' 'Helping Neighbors in Need' nan 'Strengthening Communities'\n 'Strengthening Communities' 'Strengthening Communities'\n 'Helping Neighbors in Need' 'Strengthening Communities'\n 'Strengthening Communities' 'Environment' 'Education'\n 'Strengthening Communities' 'Strengthening Communities'\n 'Strengthening Communities' 'Strengthening Communities' 'Education' nan\n 'Strengthening Communities' 'Helping Neighbors in Need'\n 'Strengthening Communities' 'Helping Neighbors in Need' 'Education'\n 'Education' 'Strengthening Communities' 'Strengthening Communities'\n 'Education' 'Education' 'Strengthening Communities'\n 'Strengthening Communities' 'Strengthening Communities'\n 'Strengthening Communities' 'Strengthening Communities' 'Education'\n 'Health' 'Strengthening Communities' 'Health' 'Education'\n 'Strengthening Communities' 'Education' 'Strengthening Communities'\n 'Strengthening Communities' 'Strengthening Communities'\n 'Strengthening Communities' 'Strengthening Communities'\n 'Strengthening Communities' 'Strengthening Communities'\n 'Strengthening Communities' 'Helping Neighbors in Need' 'Health' nan\n 'Strengthening Communities' 'Strengthening Communities' nan 'Education'\n 'Health' 'Helping Neighbors in Need' 'Strengthening Communities'\n 'Strengthening Communities' 'Helping Neighbors in Need'\n 'Strengthening Communities' 'Strengthening Communities'\n 'Helping Neighbors in Need' 'Emergency Preparedness'\n 'Strengthening Communities' 'Strengthening Communities'\n 'Strengthening Communities' nan 'Education' 'Helping Neighbors in Need'\n 'Strengthening Communities' nan 'Strengthening Communities'\n 'Strengthening Communities' 'Strengthening Communities' 'Education'\n 'Health' 'Health' 'Strengthening Communities' 'Health'\n 'Strengthening Communities' 'Strengthening Communities'\n 'Strengthening Communities' 'Strengthening Communities' nan 'Education'\n 'Strengthening Communities' 'Strengthening Communities' 'Environment'\n 'Strengthening Communities' 'Strengthening Communities'\n 'Strengthening Communities' 'Strengthening Communities' nan\n 'Emergency Preparedness' 'Helping Neighbors in Need'\n 'Strengthening Communities' 'Strengthening Communities' 'Health' 'Health'\n nan 'Helping Neighbors in Need' 'Strengthening Communities' 'Education'\n 'Helping Neighbors in Need' 'Education' 'Helping Neighbors in Need'\n 'Helping Neighbors in Need' 'Strengthening Communities' 'Health'\n 'Helping Neighbors in Need' 'Education' 'Strengthening Communities'\n 'Strengthening Communities' 'Strengthening Communities'\n 'Strengthening Communities' 'Education' 'Strengthening Communities'\n 'Strengthening Communities' 'Strengthening Communities' 'Education'\n 'Helping Neighbors in Need' 'Health' 'Strengthening Communities'\n 'Environment' nan 'Education' 'Strengthening Communities' nan\n 'Strengthening Communities' 'Strengthening Communities'\n 'Strengthening Communities' 'Helping Neighbors in Need'\n 'Strengthening Communities' 'Helping Neighbors in Need'\n 'Strengthening Communities' 'Helping Neighbors in Need'\n 'Strengthening Communities' 'Helping Neighbors in Need'\n 'Strengthening Communities' 'Strengthening Communities'\n 'Helping Neighbors in Need' 'Helping Neighbors in Need'\n 'Strengthening Communities' nan 'Strengthening Communities'\n 'Strengthening Communities' 'Strengthening Communities'\n 'Helping Neighbors in Need' 'Environment' 'Helping Neighbors in Need'\n 'Strengthening Communities' 'Environment' 'Strengthening Communities'\n 'Strengthening Communities' 'Strengthening Communities'\n 'Strengthening Communities' 'Health' 'Helping Neighbors in Need'\n 'Helping Neighbors in Need' 'Strengthening Communities'\n 'Helping Neighbors in Need' 'Strengthening Communities'\n 'Strengthening Communities'].\nReshape your data either using array.reshape(-1, 1) if your data has a single feature or array.reshape(1, -1) if it contains a single sample."
     ]
    }
   ],
   "source": [
    "from sklearn.model_selection import train_test_split\n",
    "from sklearn.impute import SimpleImputer # we import 'SimpleImputer' because it gives an error while train_test_splitting\n",
    "                                         # due to missing values. \n",
    "\n",
    "# Create a DataFrame with all columns except category_desc\n",
    "X = volunteer.drop('category_desc', axis=1)\n",
    "\n",
    "# Create a category_desc labels dataset\n",
    "volunteer['category_desc'] = volunteer['category_desc'].to_numpy().reshape(-1,1)\n",
    "y = volunteer['category_desc']\n",
    "\n",
    "imputer = SimpleImputer(strategy='most_frequent') # we do 'most_frequent' since there are categorical datas in the dataset.\n",
    "                                                  # we cannot do mean,median or smth related to numeric data\n",
    "X = imputer.fit_transform(X)\n",
    "y = imputer.fit_transform(y)\n",
    "\n",
    "# Use stratified sampling to split up the dataset according to the y dataset\n",
    "X_train, X_test, y_train, y_test = train_test_split(X, y, stratify = y, random_state=42) # we need to fix missing values\n",
    "                                                    # problem before train test splitting.\n",
    "\n",
    "# Print the category_desc counts from y_train\n",
    "print(y_train['category_desc'].value_counts())\n",
    "\n",
    "print(y_train['category_desc'].value_counts() == volunteer.category_desc.value_counts() * 0.75)"
   ]
  },
  {
   "cell_type": "markdown",
   "metadata": {},
   "source": [
    "Great job! You'll use train_test_split() frequently while building models, so it's useful to be familiar with the function."
   ]
  },
  {
   "cell_type": "code",
   "execution_count": null,
   "metadata": {},
   "outputs": [],
   "source": []
  }
 ],
 "metadata": {
  "kernelspec": {
   "display_name": "Python 3",
   "language": "python",
   "name": "python3"
  },
  "language_info": {
   "codemirror_mode": {
    "name": "ipython",
    "version": 3
   },
   "file_extension": ".py",
   "mimetype": "text/x-python",
   "name": "python",
   "nbconvert_exporter": "python",
   "pygments_lexer": "ipython3",
   "version": "3.8.3"
  }
 },
 "nbformat": 4,
 "nbformat_minor": 4
}
