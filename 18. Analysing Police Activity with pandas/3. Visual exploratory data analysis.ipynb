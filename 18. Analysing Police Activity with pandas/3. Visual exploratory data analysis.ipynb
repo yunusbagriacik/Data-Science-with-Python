{
 "cells": [
  {
   "cell_type": "markdown",
   "metadata": {},
   "source": [
    "## Does time of day affect arrest rate?"
   ]
  },
  {
   "cell_type": "markdown",
   "metadata": {},
   "source": [
    "#### Calculating the hourly arrest rate\n",
    "When a police officer stops a driver, a small percentage of those stops ends in an arrest. This is known as the arrest rate. In this exercise, you'll find out whether the arrest rate varies by time of day.\n",
    "\n",
    "First, you'll calculate the arrest rate across all stops in the ri DataFrame. Then, you'll calculate the hourly arrest rate by using the hour attribute of the index. The hour ranges from 0 to 23, in which:\n",
    "\n",
    "0 = midnight\n",
    "12 = noon\n",
    "23 = 11 PM"
   ]
  },
  {
   "cell_type": "code",
   "execution_count": 1,
   "metadata": {},
   "outputs": [
    {
     "data": {
      "text/html": [
       "<div>\n",
       "<style scoped>\n",
       "    .dataframe tbody tr th:only-of-type {\n",
       "        vertical-align: middle;\n",
       "    }\n",
       "\n",
       "    .dataframe tbody tr th {\n",
       "        vertical-align: top;\n",
       "    }\n",
       "\n",
       "    .dataframe thead th {\n",
       "        text-align: right;\n",
       "    }\n",
       "</style>\n",
       "<table border=\"1\" class=\"dataframe\">\n",
       "  <thead>\n",
       "    <tr style=\"text-align: right;\">\n",
       "      <th></th>\n",
       "      <th>state</th>\n",
       "      <th>stop_date</th>\n",
       "      <th>stop_time</th>\n",
       "      <th>county_name</th>\n",
       "      <th>driver_gender</th>\n",
       "      <th>driver_race</th>\n",
       "      <th>violation_raw</th>\n",
       "      <th>violation</th>\n",
       "      <th>search_conducted</th>\n",
       "      <th>search_type</th>\n",
       "      <th>stop_outcome</th>\n",
       "      <th>is_arrested</th>\n",
       "      <th>stop_duration</th>\n",
       "      <th>drugs_related_stop</th>\n",
       "      <th>district</th>\n",
       "    </tr>\n",
       "    <tr>\n",
       "      <th>stop_datetime</th>\n",
       "      <th></th>\n",
       "      <th></th>\n",
       "      <th></th>\n",
       "      <th></th>\n",
       "      <th></th>\n",
       "      <th></th>\n",
       "      <th></th>\n",
       "      <th></th>\n",
       "      <th></th>\n",
       "      <th></th>\n",
       "      <th></th>\n",
       "      <th></th>\n",
       "      <th></th>\n",
       "      <th></th>\n",
       "      <th></th>\n",
       "    </tr>\n",
       "  </thead>\n",
       "  <tbody>\n",
       "    <tr>\n",
       "      <th>2005-01-04 12:55:00</th>\n",
       "      <td>RI</td>\n",
       "      <td>2005-01-04</td>\n",
       "      <td>12:55</td>\n",
       "      <td>NaN</td>\n",
       "      <td>M</td>\n",
       "      <td>White</td>\n",
       "      <td>Equipment/Inspection Violation</td>\n",
       "      <td>Equipment</td>\n",
       "      <td>False</td>\n",
       "      <td>NaN</td>\n",
       "      <td>Citation</td>\n",
       "      <td>False</td>\n",
       "      <td>0-15 Min</td>\n",
       "      <td>False</td>\n",
       "      <td>Zone X4</td>\n",
       "    </tr>\n",
       "    <tr>\n",
       "      <th>2005-01-23 23:15:00</th>\n",
       "      <td>RI</td>\n",
       "      <td>2005-01-23</td>\n",
       "      <td>23:15</td>\n",
       "      <td>NaN</td>\n",
       "      <td>M</td>\n",
       "      <td>White</td>\n",
       "      <td>Speeding</td>\n",
       "      <td>Speeding</td>\n",
       "      <td>False</td>\n",
       "      <td>NaN</td>\n",
       "      <td>Citation</td>\n",
       "      <td>False</td>\n",
       "      <td>0-15 Min</td>\n",
       "      <td>False</td>\n",
       "      <td>Zone K3</td>\n",
       "    </tr>\n",
       "    <tr>\n",
       "      <th>2005-02-17 04:15:00</th>\n",
       "      <td>RI</td>\n",
       "      <td>2005-02-17</td>\n",
       "      <td>04:15</td>\n",
       "      <td>NaN</td>\n",
       "      <td>M</td>\n",
       "      <td>White</td>\n",
       "      <td>Speeding</td>\n",
       "      <td>Speeding</td>\n",
       "      <td>False</td>\n",
       "      <td>NaN</td>\n",
       "      <td>Citation</td>\n",
       "      <td>False</td>\n",
       "      <td>0-15 Min</td>\n",
       "      <td>False</td>\n",
       "      <td>Zone X4</td>\n",
       "    </tr>\n",
       "    <tr>\n",
       "      <th>2005-02-20 17:15:00</th>\n",
       "      <td>RI</td>\n",
       "      <td>2005-02-20</td>\n",
       "      <td>17:15</td>\n",
       "      <td>NaN</td>\n",
       "      <td>M</td>\n",
       "      <td>White</td>\n",
       "      <td>Call for Service</td>\n",
       "      <td>Other</td>\n",
       "      <td>False</td>\n",
       "      <td>NaN</td>\n",
       "      <td>Arrest Driver</td>\n",
       "      <td>True</td>\n",
       "      <td>16-30 Min</td>\n",
       "      <td>False</td>\n",
       "      <td>Zone X1</td>\n",
       "    </tr>\n",
       "    <tr>\n",
       "      <th>2005-02-24 01:20:00</th>\n",
       "      <td>RI</td>\n",
       "      <td>2005-02-24</td>\n",
       "      <td>01:20</td>\n",
       "      <td>NaN</td>\n",
       "      <td>F</td>\n",
       "      <td>White</td>\n",
       "      <td>Speeding</td>\n",
       "      <td>Speeding</td>\n",
       "      <td>False</td>\n",
       "      <td>NaN</td>\n",
       "      <td>Citation</td>\n",
       "      <td>False</td>\n",
       "      <td>0-15 Min</td>\n",
       "      <td>False</td>\n",
       "      <td>Zone X3</td>\n",
       "    </tr>\n",
       "    <tr>\n",
       "      <th>...</th>\n",
       "      <td>...</td>\n",
       "      <td>...</td>\n",
       "      <td>...</td>\n",
       "      <td>...</td>\n",
       "      <td>...</td>\n",
       "      <td>...</td>\n",
       "      <td>...</td>\n",
       "      <td>...</td>\n",
       "      <td>...</td>\n",
       "      <td>...</td>\n",
       "      <td>...</td>\n",
       "      <td>...</td>\n",
       "      <td>...</td>\n",
       "      <td>...</td>\n",
       "      <td>...</td>\n",
       "    </tr>\n",
       "    <tr>\n",
       "      <th>2015-02-23 01:02:00</th>\n",
       "      <td>RI</td>\n",
       "      <td>2015-02-23</td>\n",
       "      <td>01:02</td>\n",
       "      <td>NaN</td>\n",
       "      <td>F</td>\n",
       "      <td>White</td>\n",
       "      <td>Seatbelt Violation</td>\n",
       "      <td>Seat belt</td>\n",
       "      <td>False</td>\n",
       "      <td>NaN</td>\n",
       "      <td>Citation</td>\n",
       "      <td>False</td>\n",
       "      <td>0-15 Min</td>\n",
       "      <td>False</td>\n",
       "      <td>Zone K3</td>\n",
       "    </tr>\n",
       "    <tr>\n",
       "      <th>2015-02-23 08:37:00</th>\n",
       "      <td>RI</td>\n",
       "      <td>2015-02-23</td>\n",
       "      <td>08:37</td>\n",
       "      <td>NaN</td>\n",
       "      <td>F</td>\n",
       "      <td>Hispanic</td>\n",
       "      <td>Seatbelt Violation</td>\n",
       "      <td>Seat belt</td>\n",
       "      <td>True</td>\n",
       "      <td>Probable Cause</td>\n",
       "      <td>Citation</td>\n",
       "      <td>False</td>\n",
       "      <td>30+ Min</td>\n",
       "      <td>False</td>\n",
       "      <td>Zone X4</td>\n",
       "    </tr>\n",
       "    <tr>\n",
       "      <th>2015-02-23 10:09:00</th>\n",
       "      <td>RI</td>\n",
       "      <td>2015-02-23</td>\n",
       "      <td>10:09</td>\n",
       "      <td>NaN</td>\n",
       "      <td>F</td>\n",
       "      <td>White</td>\n",
       "      <td>Other Traffic Violation</td>\n",
       "      <td>Moving violation</td>\n",
       "      <td>False</td>\n",
       "      <td>NaN</td>\n",
       "      <td>Warning</td>\n",
       "      <td>False</td>\n",
       "      <td>0-15 Min</td>\n",
       "      <td>False</td>\n",
       "      <td>Zone X3</td>\n",
       "    </tr>\n",
       "    <tr>\n",
       "      <th>2015-02-23 12:35:00</th>\n",
       "      <td>RI</td>\n",
       "      <td>2015-02-23</td>\n",
       "      <td>12:35</td>\n",
       "      <td>NaN</td>\n",
       "      <td>M</td>\n",
       "      <td>White</td>\n",
       "      <td>Other Traffic Violation</td>\n",
       "      <td>Moving violation</td>\n",
       "      <td>False</td>\n",
       "      <td>NaN</td>\n",
       "      <td>Citation</td>\n",
       "      <td>False</td>\n",
       "      <td>30+ Min</td>\n",
       "      <td>False</td>\n",
       "      <td>Zone X1</td>\n",
       "    </tr>\n",
       "    <tr>\n",
       "      <th>2015-02-23 12:56:00</th>\n",
       "      <td>RI</td>\n",
       "      <td>2015-02-23</td>\n",
       "      <td>12:56</td>\n",
       "      <td>NaN</td>\n",
       "      <td>F</td>\n",
       "      <td>Asian</td>\n",
       "      <td>Speeding</td>\n",
       "      <td>Speeding</td>\n",
       "      <td>False</td>\n",
       "      <td>NaN</td>\n",
       "      <td>Citation</td>\n",
       "      <td>False</td>\n",
       "      <td>0-15 Min</td>\n",
       "      <td>False</td>\n",
       "      <td>Z</td>\n",
       "    </tr>\n",
       "  </tbody>\n",
       "</table>\n",
       "<p>84495 rows × 15 columns</p>\n",
       "</div>"
      ],
      "text/plain": [
       "                    state   stop_date stop_time  county_name driver_gender  \\\n",
       "stop_datetime                                                                \n",
       "2005-01-04 12:55:00    RI  2005-01-04     12:55          NaN             M   \n",
       "2005-01-23 23:15:00    RI  2005-01-23     23:15          NaN             M   \n",
       "2005-02-17 04:15:00    RI  2005-02-17     04:15          NaN             M   \n",
       "2005-02-20 17:15:00    RI  2005-02-20     17:15          NaN             M   \n",
       "2005-02-24 01:20:00    RI  2005-02-24     01:20          NaN             F   \n",
       "...                   ...         ...       ...          ...           ...   \n",
       "2015-02-23 01:02:00    RI  2015-02-23     01:02          NaN             F   \n",
       "2015-02-23 08:37:00    RI  2015-02-23     08:37          NaN             F   \n",
       "2015-02-23 10:09:00    RI  2015-02-23     10:09          NaN             F   \n",
       "2015-02-23 12:35:00    RI  2015-02-23     12:35          NaN             M   \n",
       "2015-02-23 12:56:00    RI  2015-02-23     12:56          NaN             F   \n",
       "\n",
       "                    driver_race                   violation_raw  \\\n",
       "stop_datetime                                                     \n",
       "2005-01-04 12:55:00       White  Equipment/Inspection Violation   \n",
       "2005-01-23 23:15:00       White                        Speeding   \n",
       "2005-02-17 04:15:00       White                        Speeding   \n",
       "2005-02-20 17:15:00       White                Call for Service   \n",
       "2005-02-24 01:20:00       White                        Speeding   \n",
       "...                         ...                             ...   \n",
       "2015-02-23 01:02:00       White              Seatbelt Violation   \n",
       "2015-02-23 08:37:00    Hispanic              Seatbelt Violation   \n",
       "2015-02-23 10:09:00       White         Other Traffic Violation   \n",
       "2015-02-23 12:35:00       White         Other Traffic Violation   \n",
       "2015-02-23 12:56:00       Asian                        Speeding   \n",
       "\n",
       "                            violation  search_conducted     search_type  \\\n",
       "stop_datetime                                                             \n",
       "2005-01-04 12:55:00         Equipment             False             NaN   \n",
       "2005-01-23 23:15:00          Speeding             False             NaN   \n",
       "2005-02-17 04:15:00          Speeding             False             NaN   \n",
       "2005-02-20 17:15:00             Other             False             NaN   \n",
       "2005-02-24 01:20:00          Speeding             False             NaN   \n",
       "...                               ...               ...             ...   \n",
       "2015-02-23 01:02:00         Seat belt             False             NaN   \n",
       "2015-02-23 08:37:00         Seat belt              True  Probable Cause   \n",
       "2015-02-23 10:09:00  Moving violation             False             NaN   \n",
       "2015-02-23 12:35:00  Moving violation             False             NaN   \n",
       "2015-02-23 12:56:00          Speeding             False             NaN   \n",
       "\n",
       "                      stop_outcome is_arrested stop_duration  \\\n",
       "stop_datetime                                                  \n",
       "2005-01-04 12:55:00       Citation       False      0-15 Min   \n",
       "2005-01-23 23:15:00       Citation       False      0-15 Min   \n",
       "2005-02-17 04:15:00       Citation       False      0-15 Min   \n",
       "2005-02-20 17:15:00  Arrest Driver        True     16-30 Min   \n",
       "2005-02-24 01:20:00       Citation       False      0-15 Min   \n",
       "...                            ...         ...           ...   \n",
       "2015-02-23 01:02:00       Citation       False      0-15 Min   \n",
       "2015-02-23 08:37:00       Citation       False       30+ Min   \n",
       "2015-02-23 10:09:00        Warning       False      0-15 Min   \n",
       "2015-02-23 12:35:00       Citation       False       30+ Min   \n",
       "2015-02-23 12:56:00       Citation       False      0-15 Min   \n",
       "\n",
       "                     drugs_related_stop district  \n",
       "stop_datetime                                     \n",
       "2005-01-04 12:55:00               False  Zone X4  \n",
       "2005-01-23 23:15:00               False  Zone K3  \n",
       "2005-02-17 04:15:00               False  Zone X4  \n",
       "2005-02-20 17:15:00               False  Zone X1  \n",
       "2005-02-24 01:20:00               False  Zone X3  \n",
       "...                                 ...      ...  \n",
       "2015-02-23 01:02:00               False  Zone K3  \n",
       "2015-02-23 08:37:00               False  Zone X4  \n",
       "2015-02-23 10:09:00               False  Zone X3  \n",
       "2015-02-23 12:35:00               False  Zone X1  \n",
       "2015-02-23 12:56:00               False        Z  \n",
       "\n",
       "[84495 rows x 15 columns]"
      ]
     },
     "execution_count": 1,
     "metadata": {},
     "output_type": "execute_result"
    }
   ],
   "source": [
    "import pandas as pd\n",
    "\n",
    "ri = pd.read_csv(\"police.TXT\")\n",
    "\n",
    "ri[\"stop_datetime\"] = ri.stop_date.str.cat(ri.stop_time, sep = ' ')\n",
    "ri.stop_datetime = pd.to_datetime(ri.stop_datetime)\n",
    "ri = ri.set_index(\"stop_datetime\")\n",
    "ri"
   ]
  },
  {
   "cell_type": "code",
   "execution_count": 10,
   "metadata": {},
   "outputs": [
    {
     "name": "stdout",
     "output_type": "stream",
     "text": [
      "0.036142004398366324 \n",
      "\n",
      "is_arrested\n",
      "False    76699\n",
      "True      2876\n",
      "Name: count, dtype: int64 \n",
      "\n",
      "stop_datetime\n",
      "0     0.052834\n",
      "1     0.066955\n",
      "2     0.061936\n",
      "3     0.065126\n",
      "4     0.042194\n",
      "5     0.039106\n",
      "6      0.01402\n",
      "7     0.013586\n",
      "8     0.022145\n",
      "9     0.026347\n",
      "10    0.028169\n",
      "11    0.030499\n",
      "12    0.037141\n",
      "13    0.031205\n",
      "14    0.031739\n",
      "15    0.031688\n",
      "16    0.035703\n",
      "17    0.040266\n",
      "18    0.038384\n",
      "19    0.031332\n",
      "20    0.035814\n",
      "21     0.06428\n",
      "22    0.049483\n",
      "23     0.04891\n",
      "Name: is_arrested, dtype: object\n"
     ]
    }
   ],
   "source": [
    "# Calculate the overall arrest rate\n",
    "print(ri.is_arrested.mean(),\"\\n\") \n",
    "\n",
    "print(ri[\"is_arrested\"].value_counts(),\"\\n\") ##boolean olunca trueların sayısını toplam sayıya bölüyor. =2876/(2876+76699)\n",
    "        \n",
    "# Calculate the hourly arrest rate\n",
    "print(ri.groupby(ri.index.hour)[\"is_arrested\"].mean())\n",
    "\n",
    "# Save the hourly arrest rate\n",
    "hourly_arrest_rate = ri.groupby(ri.index.hour)[\"is_arrested\"].mean()"
   ]
  },
  {
   "cell_type": "markdown",
   "metadata": {},
   "source": [
    "#### Plotting the hourly arrest rate\n",
    "In this exercise, you'll create a line plot from the hourly_arrest_rate object. A line plot is appropriate in this case because you're showing how a quantity changes over time.\n",
    "\n",
    "This plot should help you to spot some trends that may not have been obvious when examining the raw numbers!"
   ]
  },
  {
   "cell_type": "code",
   "execution_count": 11,
   "metadata": {},
   "outputs": [
    {
     "data": {
      "image/png": "[encoded data removed]",
      "text/plain": [
       "<Figure size 640x480 with 1 Axes>"
      ]
     },
     "metadata": {},
     "output_type": "display_data"
    }
   ],
   "source": [
    "# Import matplotlib.pyplot as plt\n",
    "import matplotlib.pyplot as plt\n",
    "\n",
    "# Create a line plot of 'hourly_arrest_rate'\n",
    "hourly_arrest_rate.plot()\n",
    "\n",
    "# Add the xlabel, ylabel, and title\n",
    "plt.xlabel(\"Hour\")\n",
    "plt.ylabel(\"Arrest Rate\")\n",
    "plt.title(\"Arrest Rate by Time of Day\")\n",
    "\n",
    "# Display the plot\n",
    "plt.show()"
   ]
  },
  {
   "cell_type": "markdown",
   "metadata": {},
   "source": [
    "Wow! The arrest rate has a significant spike overnight, and then dips in the early morning hours."
   ]
  },
  {
   "cell_type": "markdown",
   "metadata": {},
   "source": [
    "## Are drug-related stops on the rise?\n",
    "#### Plotting drug-related stops\n",
    "In a small portion of traffic stops, drugs are found in the vehicle during a search. In this exercise, you'll assess whether these drug-related stops are becoming more common over time.\n",
    "\n",
    "The Boolean column drugs_related_stop indicates whether drugs were found during a given stop. You'll calculate the annual drug rate by resampling this column, and then you'll use a line plot to visualize how the rate has changed over time."
   ]
  },
  {
   "cell_type": "code",
   "execution_count": 5,
   "metadata": {},
   "outputs": [
    {
     "data": {
      "text/html": [
       "<div>\n",
       "<style scoped>\n",
       "    .dataframe tbody tr th:only-of-type {\n",
       "        vertical-align: middle;\n",
       "    }\n",
       "\n",
       "    .dataframe tbody tr th {\n",
       "        vertical-align: top;\n",
       "    }\n",
       "\n",
       "    .dataframe thead th {\n",
       "        text-align: right;\n",
       "    }\n",
       "</style>\n",
       "<table border=\"1\" class=\"dataframe\">\n",
       "  <thead>\n",
       "    <tr style=\"text-align: right;\">\n",
       "      <th></th>\n",
       "      <th>stop_datetime</th>\n",
       "      <th>drugs_related_stop</th>\n",
       "    </tr>\n",
       "  </thead>\n",
       "  <tbody>\n",
       "    <tr>\n",
       "      <th>0</th>\n",
       "      <td>2005-01-04 12:55:00</td>\n",
       "      <td>False</td>\n",
       "    </tr>\n",
       "    <tr>\n",
       "      <th>1</th>\n",
       "      <td>2005-01-23 23:15:00</td>\n",
       "      <td>False</td>\n",
       "    </tr>\n",
       "    <tr>\n",
       "      <th>2</th>\n",
       "      <td>2005-02-17 04:15:00</td>\n",
       "      <td>False</td>\n",
       "    </tr>\n",
       "    <tr>\n",
       "      <th>3</th>\n",
       "      <td>2005-02-20 17:15:00</td>\n",
       "      <td>False</td>\n",
       "    </tr>\n",
       "    <tr>\n",
       "      <th>4</th>\n",
       "      <td>2005-02-24 01:20:00</td>\n",
       "      <td>False</td>\n",
       "    </tr>\n",
       "    <tr>\n",
       "      <th>...</th>\n",
       "      <td>...</td>\n",
       "      <td>...</td>\n",
       "    </tr>\n",
       "    <tr>\n",
       "      <th>84490</th>\n",
       "      <td>2015-02-23 01:02:00</td>\n",
       "      <td>False</td>\n",
       "    </tr>\n",
       "    <tr>\n",
       "      <th>84491</th>\n",
       "      <td>2015-02-23 08:37:00</td>\n",
       "      <td>False</td>\n",
       "    </tr>\n",
       "    <tr>\n",
       "      <th>84492</th>\n",
       "      <td>2015-02-23 10:09:00</td>\n",
       "      <td>False</td>\n",
       "    </tr>\n",
       "    <tr>\n",
       "      <th>84493</th>\n",
       "      <td>2015-02-23 12:35:00</td>\n",
       "      <td>False</td>\n",
       "    </tr>\n",
       "    <tr>\n",
       "      <th>84494</th>\n",
       "      <td>2015-02-23 12:56:00</td>\n",
       "      <td>False</td>\n",
       "    </tr>\n",
       "  </tbody>\n",
       "</table>\n",
       "<p>84495 rows × 2 columns</p>\n",
       "</div>"
      ],
      "text/plain": [
       "            stop_datetime  drugs_related_stop\n",
       "0     2005-01-04 12:55:00               False\n",
       "1     2005-01-23 23:15:00               False\n",
       "2     2005-02-17 04:15:00               False\n",
       "3     2005-02-20 17:15:00               False\n",
       "4     2005-02-24 01:20:00               False\n",
       "...                   ...                 ...\n",
       "84490 2015-02-23 01:02:00               False\n",
       "84491 2015-02-23 08:37:00               False\n",
       "84492 2015-02-23 10:09:00               False\n",
       "84493 2015-02-23 12:35:00               False\n",
       "84494 2015-02-23 12:56:00               False\n",
       "\n",
       "[84495 rows x 2 columns]"
      ]
     },
     "execution_count": 5,
     "metadata": {},
     "output_type": "execute_result"
    }
   ],
   "source": [
    "ri = ri.reset_index(\"stop_datetime\")\n",
    "drugs_related_stop_datetime = pd.concat([ri.stop_datetime, ri.drugs_related_stop], axis = \"columns\")\n",
    "drugs_related_stop_datetime"
   ]
  },
  {
   "cell_type": "code",
   "execution_count": 6,
   "metadata": {},
   "outputs": [
    {
     "name": "stdout",
     "output_type": "stream",
     "text": [
      "stop_datetime\n",
      "2005-12-31    0.006390\n",
      "2006-12-31    0.006913\n",
      "2007-12-31    0.007520\n",
      "2008-12-31    0.006998\n",
      "2009-12-31    0.009079\n",
      "2010-12-31    0.009407\n",
      "2011-12-31    0.009035\n",
      "2012-12-31    0.009388\n",
      "2013-12-31    0.012283\n",
      "2014-12-31    0.013280\n",
      "2015-12-31    0.014744\n",
      "Freq: A-DEC, Name: drugs_related_stop, dtype: float64\n"
     ]
    },
    {
     "data": {
      "image/png": "[encoded data removed]",
      "text/plain": [
       "<Figure size 432x288 with 1 Axes>"
      ]
     },
     "metadata": {
      "needs_background": "light"
     },
     "output_type": "display_data"
    }
   ],
   "source": [
    "ri = ri.set_index(\"stop_datetime\")\n",
    "\n",
    "# Calculate the annual rate of drug-related stops\n",
    "print(ri.drugs_related_stop.resample('A').mean())\n",
    "\n",
    "# Save the annual rate of drug-related stops\n",
    "annual_drug_rate = ri.drugs_related_stop.resample('A').mean()\n",
    "\n",
    "# Create a line plot of 'annual_drug_rate'\n",
    "annual_drug_rate.plot()\n",
    "\n",
    "# Display the plot\n",
    "plt.show()"
   ]
  },
  {
   "cell_type": "markdown",
   "metadata": {},
   "source": [
    "Interesting! The rate of drug-related stops nearly doubled over the course of 10 years. Why might that be the case?"
   ]
  },
  {
   "cell_type": "markdown",
   "metadata": {},
   "source": [
    "#### Comparing drug and search rates\n",
    "As you saw in the last exercise, the rate of drug-related stops increased significantly between 2005 and 2015. You might hypothesize that the rate of vehicle searches was also increasing, which would have led to an increase in drug-related stops even if more drivers were not carrying drugs.\n",
    "\n",
    "You can test this hypothesis by calculating the annual search rate, and then plotting it against the annual drug rate. If the hypothesis is true, then you'll see both rates increasing over time."
   ]
  },
  {
   "cell_type": "code",
   "execution_count": 7,
   "metadata": {},
   "outputs": [
    {
     "data": {
      "image/png": "[encoded data removed]",
      "text/plain": [
       "<Figure size 432x288 with 2 Axes>"
      ]
     },
     "metadata": {
      "needs_background": "light"
     },
     "output_type": "display_data"
    }
   ],
   "source": [
    "# Calculate and save the annual search rate\n",
    "annual_search_rate = ri.search_conducted.resample('A').mean()\n",
    "\n",
    "# Concatenate 'annual_drug_rate' and 'annual_search_rate'\n",
    "annual = pd.concat([annual_drug_rate, annual_search_rate], axis= \"columns\")\n",
    "\n",
    "# Create subplots from 'annual'\n",
    "annual.plot(subplots = True)\n",
    "\n",
    "# Display the subplots\n",
    "plt.show()"
   ]
  },
  {
   "cell_type": "markdown",
   "metadata": {},
   "source": [
    "Wow! The rate of drug-related stops increased even though the search rate decreased, disproving our hypothesis."
   ]
  },
  {
   "cell_type": "markdown",
   "metadata": {},
   "source": [
    "## What violations are caught in each district?\n",
    "#### Tallying violations by district\n",
    "The state of Rhode Island is broken into six police districts, also known as zones. How do the zones compare in terms of what violations are caught by police?\n",
    "\n",
    "In this exercise, you'll create a frequency table to determine how many violations of each type took place in each of the six zones. Then, you'll filter the table to focus on the \"K\" zones, which you'll examine further in the next exercise."
   ]
  },
  {
   "cell_type": "code",
   "execution_count": 8,
   "metadata": {},
   "outputs": [
    {
     "name": "stdout",
     "output_type": "stream",
     "text": [
      "violation  Equipment  Moving violation  Other  Registration/plates  Seat belt  \\\n",
      "district                                                                        \n",
      "Z                  0                 0      0                    0          0   \n",
      "Zone K1          673              1254    290                  120          0   \n",
      "Zone K2         1805              2719    866                  660        364   \n",
      "Zone K3         2012              2649    664                  577        443   \n",
      "Zone X1          249               586    113                   27         63   \n",
      "Zone X3         1726              2799    713                  559        552   \n",
      "Zone X4         3262              5015   1447                 1258        638   \n",
      "\n",
      "violation  Speeding  \n",
      "district             \n",
      "Z                 1  \n",
      "Zone K1        5960  \n",
      "Zone K2        9614  \n",
      "Zone K3       11573  \n",
      "Zone X1        1018  \n",
      "Zone X3        8183  \n",
      "Zone X4        9123   \n",
      "\n",
      "\n",
      "violation  Equipment  Moving violation  Other  Registration/plates  Seat belt  \\\n",
      "district                                                                        \n",
      "Zone K1          673              1254    290                  120          0   \n",
      "Zone K2         1805              2719    866                  660        364   \n",
      "Zone K3         2012              2649    664                  577        443   \n",
      "\n",
      "violation  Speeding  \n",
      "district             \n",
      "Zone K1        5960  \n",
      "Zone K2        9614  \n",
      "Zone K3       11573  \n"
     ]
    }
   ],
   "source": [
    "# Create a frequency table of districts and violations\n",
    "print(pd.crosstab(ri.district, ri.violation), \"\\n\\n\")\n",
    "\n",
    "# Save the frequency table as 'all_zones'\n",
    "all_zones = pd.crosstab(ri.district, ri.violation)\n",
    "\n",
    "# Select rows 'Zone K1' through 'Zone K3'\n",
    "print(all_zones.loc['Zone K1':'Zone K3'])\n",
    "\n",
    "# Save the smaller table as 'k_zones'\n",
    "k_zones = all_zones.loc['Zone K1':'Zone K3']"
   ]
  },
  {
   "cell_type": "markdown",
   "metadata": {},
   "source": [
    "Great job! Next you'll plot the violations so that you can compare these districts."
   ]
  },
  {
   "cell_type": "markdown",
   "metadata": {},
   "source": [
    "#### Plotting violations by district\n",
    "Now that you've created a frequency table focused on the \"K\" zones, you'll visualize the data to help you compare what violations are being caught in each zone.\n",
    "\n",
    "First you'll create a bar plot, which is an appropriate plot type since you're comparing categorical data. Then you'll create a stacked bar plot in order to get a slightly different look at the data. Which plot do you find to be more insightful?"
   ]
  },
  {
   "cell_type": "code",
   "execution_count": 9,
   "metadata": {},
   "outputs": [
    {
     "data": {
      "image/png": "[encoded data removed]",
      "text/plain": [
       "<Figure size 432x288 with 1 Axes>"
      ]
     },
     "metadata": {
      "needs_background": "light"
     },
     "output_type": "display_data"
    }
   ],
   "source": [
    "# Create a bar plot of 'k_zones'\n",
    "k_zones.plot(kind = \"bar\")\n",
    "\n",
    "# Display the plot\n",
    "plt.show()"
   ]
  },
  {
   "cell_type": "code",
   "execution_count": 10,
   "metadata": {},
   "outputs": [
    {
     "data": {
      "image/png": "[encoded data removed]",
      "text/plain": [
       "<Figure size 432x288 with 1 Axes>"
      ]
     },
     "metadata": {
      "needs_background": "light"
     },
     "output_type": "display_data"
    }
   ],
   "source": [
    "# Create a stacked bar plot of 'k_zones'\n",
    "k_zones.plot(kind = \"bar\", stacked = True)\n",
    "\n",
    "# Display the plot\n",
    "plt.show()"
   ]
  },
  {
   "cell_type": "markdown",
   "metadata": {},
   "source": [
    "Interesting! The vast majority of traffic stops in Zone K1 are for speeding, and Zones K2 and K3 are remarkably similar to one another in terms of violations."
   ]
  },
  {
   "cell_type": "markdown",
   "metadata": {},
   "source": [
    "## How long might you be stopped for a violation?\n",
    "#### Converting stop durations to numbers\n",
    "In the traffic stops dataset, the stop_duration column tells you approximately how long the driver was detained by the officer. Unfortunately, the durations are stored as strings, such as '0-15 Min'. How can you make this data easier to analyze?\n",
    "\n",
    "In this exercise, you'll convert the stop durations to integers. Because the precise durations are not available, you'll have to estimate the numbers using reasonable values:\n",
    "\n",
    "Convert '0-15 Min' to 8\n",
    "Convert '16-30 Min' to 23\n",
    "Convert '30+ Min' to 45"
   ]
  },
  {
   "cell_type": "code",
   "execution_count": 11,
   "metadata": {},
   "outputs": [
    {
     "name": "stdout",
     "output_type": "stream",
     "text": [
      "['0-15 Min' '16-30 Min' nan '30+ Min']\n",
      "[ 8. 23. nan 45.]\n"
     ]
    }
   ],
   "source": [
    "# Print the unique values in 'stop_duration'\n",
    "print(ri.stop_duration.unique())\n",
    "\n",
    "# Create a dictionary that maps strings to integers\n",
    "mapping = {'0-15 Min': 8, '16-30 Min' : 23, '30+ Min' : 45}\n",
    "\n",
    "# Convert the 'stop_duration' strings to integers using the 'mapping'\n",
    "ri['stop_minutes'] = ri.stop_duration.map(mapping)\n",
    "\n",
    "# Print the unique values in 'stop_minutes'\n",
    "print(ri.stop_minutes.unique())"
   ]
  },
  {
   "cell_type": "markdown",
   "metadata": {},
   "source": [
    "Excellent! Next you'll analyze the stop length for each type of violation."
   ]
  },
  {
   "cell_type": "markdown",
   "metadata": {},
   "source": [
    "#### Plotting stop length\n",
    "If you were stopped for a particular violation, how long might you expect to be detained?\n",
    "\n",
    "In this exercise, you'll visualize the average length of time drivers are stopped for each type of violation. Rather than using the violation column in this exercise, you'll use violation_raw since it contains more detailed descriptions of the violations."
   ]
  },
  {
   "cell_type": "code",
   "execution_count": 12,
   "metadata": {},
   "outputs": [
    {
     "data": {
      "text/plain": [
       "stop_datetime\n",
       "2005-01-04 12:55:00     8.0\n",
       "2005-01-23 23:15:00     8.0\n",
       "2005-02-17 04:15:00     8.0\n",
       "2005-02-20 17:15:00    23.0\n",
       "2005-02-24 01:20:00     8.0\n",
       "                       ... \n",
       "2015-02-23 01:02:00     8.0\n",
       "2015-02-23 08:37:00    45.0\n",
       "2015-02-23 10:09:00     8.0\n",
       "2015-02-23 12:35:00    45.0\n",
       "2015-02-23 12:56:00     8.0\n",
       "Name: stop_minutes, Length: 84495, dtype: float64"
      ]
     },
     "execution_count": 12,
     "metadata": {},
     "output_type": "execute_result"
    }
   ],
   "source": [
    "ri.stop_minutes"
   ]
  },
  {
   "cell_type": "code",
   "execution_count": 13,
   "metadata": {},
   "outputs": [
    {
     "name": "stdout",
     "output_type": "stream",
     "text": [
      "violation_raw\n",
      "APB                                 18.512195\n",
      "Call for Service                    23.325661\n",
      "Equipment/Inspection Violation      11.693739\n",
      "Motorist Assist/Courtesy            18.402235\n",
      "Other Traffic Violation             14.040274\n",
      "Registration Violation              14.340831\n",
      "Seatbelt Violation                   9.866019\n",
      "Special Detail/Directed Patrol      14.837748\n",
      "Speeding                            10.636656\n",
      "Suspicious Person                   14.481481\n",
      "Violation of City/Town Ordinance    13.318182\n",
      "Warrant                             27.384615\n",
      "Name: stop_minutes, dtype: float64\n"
     ]
    },
    {
     "data": {
      "image/png": "[encoded data removed]",
      "text/plain": [
       "<Figure size 432x288 with 1 Axes>"
      ]
     },
     "metadata": {
      "needs_background": "light"
     },
     "output_type": "display_data"
    }
   ],
   "source": [
    "# Calculate the mean 'stop_minutes' for each value in 'violation_raw'\n",
    "print(ri.groupby(\"violation_raw\").stop_minutes.mean())\n",
    "\n",
    "# Save the resulting Series as 'stop_length'\n",
    "stop_length = ri.groupby(\"violation_raw\").stop_minutes.mean()\n",
    "\n",
    "# Sort 'stop_length' by its values and create a horizontal bar plot\n",
    "stop_length.sort_values().plot(kind = \"barh\")\n",
    "\n",
    "# Display the plot\n",
    "plt.show()"
   ]
  },
  {
   "cell_type": "markdown",
   "metadata": {},
   "source": [
    "Congratulations! You've completed the chapter on visual exploratory data analysis!"
   ]
  },
  {
   "cell_type": "code",
   "execution_count": null,
   "metadata": {},
   "outputs": [],
   "source": []
  }
 ],
 "metadata": {
  "kernelspec": {
   "display_name": "Python 3 (ipykernel)",
   "language": "python",
   "name": "python3"
  },
  "language_info": {
   "codemirror_mode": {
    "name": "ipython",
    "version": 3
   },
   "file_extension": ".py",
   "mimetype": "text/x-python",
   "name": "python",
   "nbconvert_exporter": "python",
   "pygments_lexer": "ipython3",
   "version": "3.11.7"
  }
 },
 "nbformat": 4,
 "nbformat_minor": 4
}
